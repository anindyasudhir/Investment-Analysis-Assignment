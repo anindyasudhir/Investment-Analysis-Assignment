{
 "cells": [
  {
   "cell_type": "markdown",
   "metadata": {},
   "source": [
    "<b>Checkpoint 1<b>"
   ]
  },
  {
   "cell_type": "markdown",
   "metadata": {},
   "source": [
    "1. Reading Company data from companies.txt. Using separator as tab and python parsing engine. Encoding ANSI. I chose ANSI encoding because I checked that the original file is ANSI encoded. I used Notepad's saveAs to check the encoding."
   ]
  },
  {
   "cell_type": "code",
   "execution_count": 753,
   "metadata": {},
   "outputs": [],
   "source": [
    "import warnings\n",
    "warnings.filterwarnings('ignore')"
   ]
  },
  {
   "cell_type": "code",
   "execution_count": null,
   "metadata": {
    "collapsed": true
   },
   "outputs": [],
   "source": [
    "import pandas as pd\n",
    "import numpy as np\n",
    "companies  = pd.read_csv(\"companies.txt\", sep='\\t', engine='python', encoding = \"ANSI\")\n",
    "companies"
   ]
  },
  {
   "cell_type": "code",
   "execution_count": null,
   "metadata": {
    "collapsed": true
   },
   "outputs": [],
   "source": [
    "companies.describe()"
   ]
  },
  {
   "cell_type": "markdown",
   "metadata": {},
   "source": [
    "It can be seen from above data description that count is less than unique values in all columns of companies.txt except permalink. So let's analyze permalink a little more. Maybe there are duplicates with different cases. So converting everything to upper case and then checking if we have any duplicates:-"
   ]
  },
  {
   "cell_type": "code",
   "execution_count": null,
   "metadata": {
    "collapsed": true
   },
   "outputs": [],
   "source": [
    "companies.permalink.str.upper().duplicated().sum()"
   ]
  },
  {
   "cell_type": "markdown",
   "metadata": {},
   "source": [
    "So there are no duplicates so we can be sure permalink is an unique column in companies. Let's analyze this data a bit more. Analyzing duplicate homepage urls:-"
   ]
  },
  {
   "cell_type": "code",
   "execution_count": null,
   "metadata": {
    "collapsed": true
   },
   "outputs": [],
   "source": [
    "#fetch homepage urls which have a duplicate in the dataframe.\n",
    "companies.homepage_url.iloc[np.array(companies.homepage_url.duplicated())].dropna()"
   ]
  },
  {
   "cell_type": "code",
   "execution_count": null,
   "metadata": {
    "collapsed": true
   },
   "outputs": [],
   "source": [
    "#getting all rows which have these duplicated homepage urls just to see whether these companies are same or different\n",
    "companies[companies.homepage_url.isin(companies.homepage_url.iloc[np.array(companies.homepage_url.duplicated())].dropna())]"
   ]
  },
  {
   "cell_type": "code",
   "execution_count": null,
   "metadata": {
    "collapsed": true
   },
   "outputs": [],
   "source": [
    "companies[companies['homepage_url']=='http://www.lionandfoster.com/']"
   ]
  },
  {
   "cell_type": "markdown",
   "metadata": {},
   "source": [
    "As we can see from the above data, different companies have same homepage url. So homepage url can't be used to identify a company anywhere. Example, http://www.lionandfoster.com/ \tis the homepage for 2 clearly differnt companies."
   ]
  },
  {
   "cell_type": "markdown",
   "metadata": {},
   "source": [
    "2. Reading Rounds2 data from rounds2.csv. Using python parsing engine and encoding ANSI. I chose ANSI encoding because I checked that the original file is ANSI encoded. I used Notepad's saveAs to check the encoding."
   ]
  },
  {
   "cell_type": "code",
   "execution_count": null,
   "metadata": {
    "collapsed": true
   },
   "outputs": [],
   "source": [
    "rounds2   = pd.read_csv(\"rounds2.csv\", engine='python', encoding = \"ANSI\")\n",
    "rounds2.head()"
   ]
  },
  {
   "cell_type": "code",
   "execution_count": null,
   "metadata": {
    "collapsed": true
   },
   "outputs": [],
   "source": [
    "rounds2.describe(include = \"all\")"
   ]
  },
  {
   "cell_type": "markdown",
   "metadata": {},
   "source": [
    "It can be seen from above data description that count is less than unique values in all columns of rounds2.csv except funding_round_permalink. So let's analyze funding_round_permalink a little more. Maybe there are duplicates with different cases. So converting everything to upper case and then checking if we have any duplicates:-"
   ]
  },
  {
   "cell_type": "code",
   "execution_count": null,
   "metadata": {
    "collapsed": true
   },
   "outputs": [],
   "source": [
    "rounds2.funding_round_permalink.str.upper().duplicated().sum()"
   ]
  },
  {
   "cell_type": "markdown",
   "metadata": {},
   "source": [
    "So there are no duplicates so we can be sure funding_round_permalink is an unique column in companies and the primary key of this table. Let's analyze this data a bit more. Analyzing number of unique company_permalink (Company_permalink is also the foreign key which references to companies dataframe):-"
   ]
  },
  {
   "cell_type": "code",
   "execution_count": null,
   "metadata": {
    "collapsed": true
   },
   "outputs": [],
   "source": [
    "#checking the number of unique company_permalink in rounds2\n",
    "rounds2.company_permalink.count() - rounds2.company_permalink.str.upper().duplicated().sum()"
   ]
  },
  {
   "cell_type": "code",
   "execution_count": null,
   "metadata": {
    "collapsed": true
   },
   "outputs": [],
   "source": [
    "len(rounds2.company_permalink.str.lower().unique())"
   ]
  },
  {
   "cell_type": "markdown",
   "metadata": {},
   "source": [
    "So, the number of unique companies in both companies and rounds2 dataframes is 66368 now let's analyze the next question which is:-\n",
    "Are there any companies in the rounds2 file which are not  present in companies ?"
   ]
  },
  {
   "cell_type": "code",
   "execution_count": null,
   "metadata": {
    "collapsed": true
   },
   "outputs": [],
   "source": [
    "#creating new columns permalink_upper and company_permalink_upper in companies and rounds2 respectively.\n",
    "#I dont want to overwrite the original data columns that's why created new ones.\n",
    "companies['permalink_upper'] = companies.permalink.str.upper()\n",
    "rounds2['company_permalink_upper'] = rounds2.company_permalink.str.upper()"
   ]
  },
  {
   "cell_type": "code",
   "execution_count": null,
   "metadata": {
    "collapsed": true
   },
   "outputs": [],
   "source": [
    "#checking if rounds2 has any company which is not present in companies dataframe.\n",
    "len(np.setdiff1d(np.array(rounds2.company_permalink_upper),np.array(companies.permalink_upper)))"
   ]
  },
  {
   "cell_type": "markdown",
   "metadata": {},
   "source": [
    "As we can see, there is no company in rounds2 dataframe which is not present in companies. Now lets check if the opposite is also true. "
   ]
  },
  {
   "cell_type": "code",
   "execution_count": null,
   "metadata": {
    "collapsed": true
   },
   "outputs": [],
   "source": [
    "#checking if companies has any company which is not present in rounds2 dataframe.\n",
    "len(np.setdiff1d(np.array(companies.permalink_upper), np.array(rounds2.company_permalink_upper)))"
   ]
  },
  {
   "cell_type": "markdown",
   "metadata": {},
   "source": [
    "So, now it is clear that there is no company in companies dataframe which is not present in rounds2. So, we need not worry about it when we join these 2 dataframes. Let's now merge these dataframes on new columns:-"
   ]
  },
  {
   "cell_type": "code",
   "execution_count": 804,
   "metadata": {},
   "outputs": [],
   "source": [
    "#using left join but in this case inner join would return the same result because rounds2 doesn't have any company\n",
    "#which is not present in companies.\n",
    "master_frame = rounds2.merge(companies, left_on='company_permalink_upper', right_on='permalink_upper', how='left')"
   ]
  },
  {
   "cell_type": "code",
   "execution_count": null,
   "metadata": {
    "collapsed": true
   },
   "outputs": [],
   "source": [
    "master_frame.head()"
   ]
  },
  {
   "cell_type": "code",
   "execution_count": 282,
   "metadata": {},
   "outputs": [
    {
     "data": {
      "text/html": [
       "<div>\n",
       "<style scoped>\n",
       "    .dataframe tbody tr th:only-of-type {\n",
       "        vertical-align: middle;\n",
       "    }\n",
       "\n",
       "    .dataframe tbody tr th {\n",
       "        vertical-align: top;\n",
       "    }\n",
       "\n",
       "    .dataframe thead th {\n",
       "        text-align: right;\n",
       "    }\n",
       "</style>\n",
       "<table border=\"1\" class=\"dataframe\">\n",
       "  <thead>\n",
       "    <tr style=\"text-align: right;\">\n",
       "      <th></th>\n",
       "      <th>company_permalink</th>\n",
       "      <th>funding_round_permalink</th>\n",
       "      <th>funding_round_type</th>\n",
       "      <th>funding_round_code</th>\n",
       "      <th>funded_at</th>\n",
       "      <th>raised_amount_usd</th>\n",
       "      <th>company_permalink_upper</th>\n",
       "      <th>permalink</th>\n",
       "      <th>name</th>\n",
       "      <th>homepage_url</th>\n",
       "      <th>category_list</th>\n",
       "      <th>status</th>\n",
       "      <th>country_code</th>\n",
       "      <th>state_code</th>\n",
       "      <th>region</th>\n",
       "      <th>city</th>\n",
       "      <th>founded_at</th>\n",
       "      <th>permalink_upper</th>\n",
       "    </tr>\n",
       "  </thead>\n",
       "  <tbody>\n",
       "    <tr>\n",
       "      <td>count</td>\n",
       "      <td>114949</td>\n",
       "      <td>114949</td>\n",
       "      <td>114949</td>\n",
       "      <td>31140</td>\n",
       "      <td>114949</td>\n",
       "      <td>9.495900e+04</td>\n",
       "      <td>114949</td>\n",
       "      <td>114949</td>\n",
       "      <td>114948</td>\n",
       "      <td>108815</td>\n",
       "      <td>111539</td>\n",
       "      <td>114949</td>\n",
       "      <td>106271</td>\n",
       "      <td>104003</td>\n",
       "      <td>104782</td>\n",
       "      <td>104785</td>\n",
       "      <td>94428</td>\n",
       "      <td>114949</td>\n",
       "    </tr>\n",
       "    <tr>\n",
       "      <td>unique</td>\n",
       "      <td>90247</td>\n",
       "      <td>114949</td>\n",
       "      <td>14</td>\n",
       "      <td>8</td>\n",
       "      <td>5033</td>\n",
       "      <td>NaN</td>\n",
       "      <td>66368</td>\n",
       "      <td>66368</td>\n",
       "      <td>66102</td>\n",
       "      <td>61191</td>\n",
       "      <td>27296</td>\n",
       "      <td>4</td>\n",
       "      <td>137</td>\n",
       "      <td>311</td>\n",
       "      <td>1092</td>\n",
       "      <td>5111</td>\n",
       "      <td>3978</td>\n",
       "      <td>66368</td>\n",
       "    </tr>\n",
       "    <tr>\n",
       "      <td>top</td>\n",
       "      <td>/ORGANIZATION/SOLARFLARE</td>\n",
       "      <td>/funding-round/124d05ab408bce861da538bd6ff1bfff</td>\n",
       "      <td>venture</td>\n",
       "      <td>A</td>\n",
       "      <td>01-01-2014</td>\n",
       "      <td>NaN</td>\n",
       "      <td>/ORGANIZATION/SOLARFLARE</td>\n",
       "      <td>/Organization/Solarflare</td>\n",
       "      <td>Solarflare Communications</td>\n",
       "      <td>http://www.solarflare.com</td>\n",
       "      <td>Biotechnology</td>\n",
       "      <td>operating</td>\n",
       "      <td>USA</td>\n",
       "      <td>CA</td>\n",
       "      <td>SF Bay Area</td>\n",
       "      <td>San Francisco</td>\n",
       "      <td>01-01-2012</td>\n",
       "      <td>/ORGANIZATION/SOLARFLARE</td>\n",
       "    </tr>\n",
       "    <tr>\n",
       "      <td>freq</td>\n",
       "      <td>10</td>\n",
       "      <td>1</td>\n",
       "      <td>55494</td>\n",
       "      <td>14747</td>\n",
       "      <td>779</td>\n",
       "      <td>NaN</td>\n",
       "      <td>19</td>\n",
       "      <td>19</td>\n",
       "      <td>19</td>\n",
       "      <td>19</td>\n",
       "      <td>8165</td>\n",
       "      <td>90153</td>\n",
       "      <td>72308</td>\n",
       "      <td>26664</td>\n",
       "      <td>19078</td>\n",
       "      <td>7422</td>\n",
       "      <td>4642</td>\n",
       "      <td>19</td>\n",
       "    </tr>\n",
       "    <tr>\n",
       "      <td>mean</td>\n",
       "      <td>NaN</td>\n",
       "      <td>NaN</td>\n",
       "      <td>NaN</td>\n",
       "      <td>NaN</td>\n",
       "      <td>NaN</td>\n",
       "      <td>1.042687e+07</td>\n",
       "      <td>NaN</td>\n",
       "      <td>NaN</td>\n",
       "      <td>NaN</td>\n",
       "      <td>NaN</td>\n",
       "      <td>NaN</td>\n",
       "      <td>NaN</td>\n",
       "      <td>NaN</td>\n",
       "      <td>NaN</td>\n",
       "      <td>NaN</td>\n",
       "      <td>NaN</td>\n",
       "      <td>NaN</td>\n",
       "      <td>NaN</td>\n",
       "    </tr>\n",
       "    <tr>\n",
       "      <td>std</td>\n",
       "      <td>NaN</td>\n",
       "      <td>NaN</td>\n",
       "      <td>NaN</td>\n",
       "      <td>NaN</td>\n",
       "      <td>NaN</td>\n",
       "      <td>1.148212e+08</td>\n",
       "      <td>NaN</td>\n",
       "      <td>NaN</td>\n",
       "      <td>NaN</td>\n",
       "      <td>NaN</td>\n",
       "      <td>NaN</td>\n",
       "      <td>NaN</td>\n",
       "      <td>NaN</td>\n",
       "      <td>NaN</td>\n",
       "      <td>NaN</td>\n",
       "      <td>NaN</td>\n",
       "      <td>NaN</td>\n",
       "      <td>NaN</td>\n",
       "    </tr>\n",
       "    <tr>\n",
       "      <td>min</td>\n",
       "      <td>NaN</td>\n",
       "      <td>NaN</td>\n",
       "      <td>NaN</td>\n",
       "      <td>NaN</td>\n",
       "      <td>NaN</td>\n",
       "      <td>0.000000e+00</td>\n",
       "      <td>NaN</td>\n",
       "      <td>NaN</td>\n",
       "      <td>NaN</td>\n",
       "      <td>NaN</td>\n",
       "      <td>NaN</td>\n",
       "      <td>NaN</td>\n",
       "      <td>NaN</td>\n",
       "      <td>NaN</td>\n",
       "      <td>NaN</td>\n",
       "      <td>NaN</td>\n",
       "      <td>NaN</td>\n",
       "      <td>NaN</td>\n",
       "    </tr>\n",
       "    <tr>\n",
       "      <td>25%</td>\n",
       "      <td>NaN</td>\n",
       "      <td>NaN</td>\n",
       "      <td>NaN</td>\n",
       "      <td>NaN</td>\n",
       "      <td>NaN</td>\n",
       "      <td>3.225000e+05</td>\n",
       "      <td>NaN</td>\n",
       "      <td>NaN</td>\n",
       "      <td>NaN</td>\n",
       "      <td>NaN</td>\n",
       "      <td>NaN</td>\n",
       "      <td>NaN</td>\n",
       "      <td>NaN</td>\n",
       "      <td>NaN</td>\n",
       "      <td>NaN</td>\n",
       "      <td>NaN</td>\n",
       "      <td>NaN</td>\n",
       "      <td>NaN</td>\n",
       "    </tr>\n",
       "    <tr>\n",
       "      <td>50%</td>\n",
       "      <td>NaN</td>\n",
       "      <td>NaN</td>\n",
       "      <td>NaN</td>\n",
       "      <td>NaN</td>\n",
       "      <td>NaN</td>\n",
       "      <td>1.680511e+06</td>\n",
       "      <td>NaN</td>\n",
       "      <td>NaN</td>\n",
       "      <td>NaN</td>\n",
       "      <td>NaN</td>\n",
       "      <td>NaN</td>\n",
       "      <td>NaN</td>\n",
       "      <td>NaN</td>\n",
       "      <td>NaN</td>\n",
       "      <td>NaN</td>\n",
       "      <td>NaN</td>\n",
       "      <td>NaN</td>\n",
       "      <td>NaN</td>\n",
       "    </tr>\n",
       "    <tr>\n",
       "      <td>75%</td>\n",
       "      <td>NaN</td>\n",
       "      <td>NaN</td>\n",
       "      <td>NaN</td>\n",
       "      <td>NaN</td>\n",
       "      <td>NaN</td>\n",
       "      <td>7.000000e+06</td>\n",
       "      <td>NaN</td>\n",
       "      <td>NaN</td>\n",
       "      <td>NaN</td>\n",
       "      <td>NaN</td>\n",
       "      <td>NaN</td>\n",
       "      <td>NaN</td>\n",
       "      <td>NaN</td>\n",
       "      <td>NaN</td>\n",
       "      <td>NaN</td>\n",
       "      <td>NaN</td>\n",
       "      <td>NaN</td>\n",
       "      <td>NaN</td>\n",
       "    </tr>\n",
       "    <tr>\n",
       "      <td>max</td>\n",
       "      <td>NaN</td>\n",
       "      <td>NaN</td>\n",
       "      <td>NaN</td>\n",
       "      <td>NaN</td>\n",
       "      <td>NaN</td>\n",
       "      <td>2.127194e+10</td>\n",
       "      <td>NaN</td>\n",
       "      <td>NaN</td>\n",
       "      <td>NaN</td>\n",
       "      <td>NaN</td>\n",
       "      <td>NaN</td>\n",
       "      <td>NaN</td>\n",
       "      <td>NaN</td>\n",
       "      <td>NaN</td>\n",
       "      <td>NaN</td>\n",
       "      <td>NaN</td>\n",
       "      <td>NaN</td>\n",
       "      <td>NaN</td>\n",
       "    </tr>\n",
       "  </tbody>\n",
       "</table>\n",
       "</div>"
      ],
      "text/plain": [
       "               company_permalink  \\\n",
       "count                     114949   \n",
       "unique                     90247   \n",
       "top     /ORGANIZATION/SOLARFLARE   \n",
       "freq                          10   \n",
       "mean                         NaN   \n",
       "std                          NaN   \n",
       "min                          NaN   \n",
       "25%                          NaN   \n",
       "50%                          NaN   \n",
       "75%                          NaN   \n",
       "max                          NaN   \n",
       "\n",
       "                                funding_round_permalink funding_round_type  \\\n",
       "count                                            114949             114949   \n",
       "unique                                           114949                 14   \n",
       "top     /funding-round/124d05ab408bce861da538bd6ff1bfff            venture   \n",
       "freq                                                  1              55494   \n",
       "mean                                                NaN                NaN   \n",
       "std                                                 NaN                NaN   \n",
       "min                                                 NaN                NaN   \n",
       "25%                                                 NaN                NaN   \n",
       "50%                                                 NaN                NaN   \n",
       "75%                                                 NaN                NaN   \n",
       "max                                                 NaN                NaN   \n",
       "\n",
       "       funding_round_code   funded_at  raised_amount_usd  \\\n",
       "count               31140      114949       9.495900e+04   \n",
       "unique                  8        5033                NaN   \n",
       "top                     A  01-01-2014                NaN   \n",
       "freq                14747         779                NaN   \n",
       "mean                  NaN         NaN       1.042687e+07   \n",
       "std                   NaN         NaN       1.148212e+08   \n",
       "min                   NaN         NaN       0.000000e+00   \n",
       "25%                   NaN         NaN       3.225000e+05   \n",
       "50%                   NaN         NaN       1.680511e+06   \n",
       "75%                   NaN         NaN       7.000000e+06   \n",
       "max                   NaN         NaN       2.127194e+10   \n",
       "\n",
       "         company_permalink_upper                 permalink  \\\n",
       "count                     114949                    114949   \n",
       "unique                     66368                     66368   \n",
       "top     /ORGANIZATION/SOLARFLARE  /Organization/Solarflare   \n",
       "freq                          19                        19   \n",
       "mean                         NaN                       NaN   \n",
       "std                          NaN                       NaN   \n",
       "min                          NaN                       NaN   \n",
       "25%                          NaN                       NaN   \n",
       "50%                          NaN                       NaN   \n",
       "75%                          NaN                       NaN   \n",
       "max                          NaN                       NaN   \n",
       "\n",
       "                             name               homepage_url  category_list  \\\n",
       "count                      114948                     108815         111539   \n",
       "unique                      66102                      61191          27296   \n",
       "top     Solarflare Communications  http://www.solarflare.com  Biotechnology   \n",
       "freq                           19                         19           8165   \n",
       "mean                          NaN                        NaN            NaN   \n",
       "std                           NaN                        NaN            NaN   \n",
       "min                           NaN                        NaN            NaN   \n",
       "25%                           NaN                        NaN            NaN   \n",
       "50%                           NaN                        NaN            NaN   \n",
       "75%                           NaN                        NaN            NaN   \n",
       "max                           NaN                        NaN            NaN   \n",
       "\n",
       "           status country_code state_code       region           city  \\\n",
       "count      114949       106271     104003       104782         104785   \n",
       "unique          4          137        311         1092           5111   \n",
       "top     operating          USA         CA  SF Bay Area  San Francisco   \n",
       "freq        90153        72308      26664        19078           7422   \n",
       "mean          NaN          NaN        NaN          NaN            NaN   \n",
       "std           NaN          NaN        NaN          NaN            NaN   \n",
       "min           NaN          NaN        NaN          NaN            NaN   \n",
       "25%           NaN          NaN        NaN          NaN            NaN   \n",
       "50%           NaN          NaN        NaN          NaN            NaN   \n",
       "75%           NaN          NaN        NaN          NaN            NaN   \n",
       "max           NaN          NaN        NaN          NaN            NaN   \n",
       "\n",
       "        founded_at           permalink_upper  \n",
       "count        94428                    114949  \n",
       "unique        3978                     66368  \n",
       "top     01-01-2012  /ORGANIZATION/SOLARFLARE  \n",
       "freq          4642                        19  \n",
       "mean           NaN                       NaN  \n",
       "std            NaN                       NaN  \n",
       "min            NaN                       NaN  \n",
       "25%            NaN                       NaN  \n",
       "50%            NaN                       NaN  \n",
       "75%            NaN                       NaN  \n",
       "max            NaN                       NaN  "
      ]
     },
     "execution_count": 282,
     "metadata": {},
     "output_type": "execute_result"
    }
   ],
   "source": [
    "#analyzing master_frame\n",
    "master_frame.describe(include = 'all')"
   ]
  },
  {
   "cell_type": "code",
   "execution_count": 805,
   "metadata": {},
   "outputs": [
    {
     "data": {
      "text/html": [
       "<div>\n",
       "<style scoped>\n",
       "    .dataframe tbody tr th:only-of-type {\n",
       "        vertical-align: middle;\n",
       "    }\n",
       "\n",
       "    .dataframe tbody tr th {\n",
       "        vertical-align: top;\n",
       "    }\n",
       "\n",
       "    .dataframe thead th {\n",
       "        text-align: right;\n",
       "    }\n",
       "</style>\n",
       "<table border=\"1\" class=\"dataframe\">\n",
       "  <thead>\n",
       "    <tr style=\"text-align: right;\">\n",
       "      <th></th>\n",
       "      <th>funding_round_permalink</th>\n",
       "      <th>funding_round_type</th>\n",
       "      <th>funding_round_code</th>\n",
       "      <th>funded_at</th>\n",
       "      <th>raised_amount_usd</th>\n",
       "      <th>company_permalink_upper</th>\n",
       "      <th>name</th>\n",
       "      <th>homepage_url</th>\n",
       "      <th>category_list</th>\n",
       "      <th>status</th>\n",
       "      <th>country_code</th>\n",
       "      <th>state_code</th>\n",
       "      <th>region</th>\n",
       "      <th>city</th>\n",
       "      <th>founded_at</th>\n",
       "    </tr>\n",
       "  </thead>\n",
       "  <tbody>\n",
       "    <tr>\n",
       "      <td>count</td>\n",
       "      <td>114949</td>\n",
       "      <td>114949</td>\n",
       "      <td>31140</td>\n",
       "      <td>114949</td>\n",
       "      <td>9.495900e+04</td>\n",
       "      <td>114949</td>\n",
       "      <td>114948</td>\n",
       "      <td>108815</td>\n",
       "      <td>111539</td>\n",
       "      <td>114949</td>\n",
       "      <td>106271</td>\n",
       "      <td>104003</td>\n",
       "      <td>104782</td>\n",
       "      <td>104785</td>\n",
       "      <td>94428</td>\n",
       "    </tr>\n",
       "    <tr>\n",
       "      <td>unique</td>\n",
       "      <td>114949</td>\n",
       "      <td>14</td>\n",
       "      <td>8</td>\n",
       "      <td>5033</td>\n",
       "      <td>NaN</td>\n",
       "      <td>66368</td>\n",
       "      <td>66102</td>\n",
       "      <td>61191</td>\n",
       "      <td>27296</td>\n",
       "      <td>4</td>\n",
       "      <td>137</td>\n",
       "      <td>311</td>\n",
       "      <td>1092</td>\n",
       "      <td>5111</td>\n",
       "      <td>3978</td>\n",
       "    </tr>\n",
       "    <tr>\n",
       "      <td>top</td>\n",
       "      <td>/funding-round/124d05ab408bce861da538bd6ff1bfff</td>\n",
       "      <td>venture</td>\n",
       "      <td>A</td>\n",
       "      <td>01-01-2014</td>\n",
       "      <td>NaN</td>\n",
       "      <td>/ORGANIZATION/SOLARFLARE</td>\n",
       "      <td>Solarflare Communications</td>\n",
       "      <td>http://www.solarflare.com</td>\n",
       "      <td>Biotechnology</td>\n",
       "      <td>operating</td>\n",
       "      <td>USA</td>\n",
       "      <td>CA</td>\n",
       "      <td>SF Bay Area</td>\n",
       "      <td>San Francisco</td>\n",
       "      <td>01-01-2012</td>\n",
       "    </tr>\n",
       "    <tr>\n",
       "      <td>freq</td>\n",
       "      <td>1</td>\n",
       "      <td>55494</td>\n",
       "      <td>14747</td>\n",
       "      <td>779</td>\n",
       "      <td>NaN</td>\n",
       "      <td>19</td>\n",
       "      <td>19</td>\n",
       "      <td>19</td>\n",
       "      <td>8165</td>\n",
       "      <td>90153</td>\n",
       "      <td>72308</td>\n",
       "      <td>26664</td>\n",
       "      <td>19078</td>\n",
       "      <td>7422</td>\n",
       "      <td>4642</td>\n",
       "    </tr>\n",
       "    <tr>\n",
       "      <td>mean</td>\n",
       "      <td>NaN</td>\n",
       "      <td>NaN</td>\n",
       "      <td>NaN</td>\n",
       "      <td>NaN</td>\n",
       "      <td>1.042687e+07</td>\n",
       "      <td>NaN</td>\n",
       "      <td>NaN</td>\n",
       "      <td>NaN</td>\n",
       "      <td>NaN</td>\n",
       "      <td>NaN</td>\n",
       "      <td>NaN</td>\n",
       "      <td>NaN</td>\n",
       "      <td>NaN</td>\n",
       "      <td>NaN</td>\n",
       "      <td>NaN</td>\n",
       "    </tr>\n",
       "    <tr>\n",
       "      <td>std</td>\n",
       "      <td>NaN</td>\n",
       "      <td>NaN</td>\n",
       "      <td>NaN</td>\n",
       "      <td>NaN</td>\n",
       "      <td>1.148212e+08</td>\n",
       "      <td>NaN</td>\n",
       "      <td>NaN</td>\n",
       "      <td>NaN</td>\n",
       "      <td>NaN</td>\n",
       "      <td>NaN</td>\n",
       "      <td>NaN</td>\n",
       "      <td>NaN</td>\n",
       "      <td>NaN</td>\n",
       "      <td>NaN</td>\n",
       "      <td>NaN</td>\n",
       "    </tr>\n",
       "    <tr>\n",
       "      <td>min</td>\n",
       "      <td>NaN</td>\n",
       "      <td>NaN</td>\n",
       "      <td>NaN</td>\n",
       "      <td>NaN</td>\n",
       "      <td>0.000000e+00</td>\n",
       "      <td>NaN</td>\n",
       "      <td>NaN</td>\n",
       "      <td>NaN</td>\n",
       "      <td>NaN</td>\n",
       "      <td>NaN</td>\n",
       "      <td>NaN</td>\n",
       "      <td>NaN</td>\n",
       "      <td>NaN</td>\n",
       "      <td>NaN</td>\n",
       "      <td>NaN</td>\n",
       "    </tr>\n",
       "    <tr>\n",
       "      <td>25%</td>\n",
       "      <td>NaN</td>\n",
       "      <td>NaN</td>\n",
       "      <td>NaN</td>\n",
       "      <td>NaN</td>\n",
       "      <td>3.225000e+05</td>\n",
       "      <td>NaN</td>\n",
       "      <td>NaN</td>\n",
       "      <td>NaN</td>\n",
       "      <td>NaN</td>\n",
       "      <td>NaN</td>\n",
       "      <td>NaN</td>\n",
       "      <td>NaN</td>\n",
       "      <td>NaN</td>\n",
       "      <td>NaN</td>\n",
       "      <td>NaN</td>\n",
       "    </tr>\n",
       "    <tr>\n",
       "      <td>50%</td>\n",
       "      <td>NaN</td>\n",
       "      <td>NaN</td>\n",
       "      <td>NaN</td>\n",
       "      <td>NaN</td>\n",
       "      <td>1.680511e+06</td>\n",
       "      <td>NaN</td>\n",
       "      <td>NaN</td>\n",
       "      <td>NaN</td>\n",
       "      <td>NaN</td>\n",
       "      <td>NaN</td>\n",
       "      <td>NaN</td>\n",
       "      <td>NaN</td>\n",
       "      <td>NaN</td>\n",
       "      <td>NaN</td>\n",
       "      <td>NaN</td>\n",
       "    </tr>\n",
       "    <tr>\n",
       "      <td>75%</td>\n",
       "      <td>NaN</td>\n",
       "      <td>NaN</td>\n",
       "      <td>NaN</td>\n",
       "      <td>NaN</td>\n",
       "      <td>7.000000e+06</td>\n",
       "      <td>NaN</td>\n",
       "      <td>NaN</td>\n",
       "      <td>NaN</td>\n",
       "      <td>NaN</td>\n",
       "      <td>NaN</td>\n",
       "      <td>NaN</td>\n",
       "      <td>NaN</td>\n",
       "      <td>NaN</td>\n",
       "      <td>NaN</td>\n",
       "      <td>NaN</td>\n",
       "    </tr>\n",
       "    <tr>\n",
       "      <td>max</td>\n",
       "      <td>NaN</td>\n",
       "      <td>NaN</td>\n",
       "      <td>NaN</td>\n",
       "      <td>NaN</td>\n",
       "      <td>2.127194e+10</td>\n",
       "      <td>NaN</td>\n",
       "      <td>NaN</td>\n",
       "      <td>NaN</td>\n",
       "      <td>NaN</td>\n",
       "      <td>NaN</td>\n",
       "      <td>NaN</td>\n",
       "      <td>NaN</td>\n",
       "      <td>NaN</td>\n",
       "      <td>NaN</td>\n",
       "      <td>NaN</td>\n",
       "    </tr>\n",
       "  </tbody>\n",
       "</table>\n",
       "</div>"
      ],
      "text/plain": [
       "                                funding_round_permalink funding_round_type  \\\n",
       "count                                            114949             114949   \n",
       "unique                                           114949                 14   \n",
       "top     /funding-round/124d05ab408bce861da538bd6ff1bfff            venture   \n",
       "freq                                                  1              55494   \n",
       "mean                                                NaN                NaN   \n",
       "std                                                 NaN                NaN   \n",
       "min                                                 NaN                NaN   \n",
       "25%                                                 NaN                NaN   \n",
       "50%                                                 NaN                NaN   \n",
       "75%                                                 NaN                NaN   \n",
       "max                                                 NaN                NaN   \n",
       "\n",
       "       funding_round_code   funded_at  raised_amount_usd  \\\n",
       "count               31140      114949       9.495900e+04   \n",
       "unique                  8        5033                NaN   \n",
       "top                     A  01-01-2014                NaN   \n",
       "freq                14747         779                NaN   \n",
       "mean                  NaN         NaN       1.042687e+07   \n",
       "std                   NaN         NaN       1.148212e+08   \n",
       "min                   NaN         NaN       0.000000e+00   \n",
       "25%                   NaN         NaN       3.225000e+05   \n",
       "50%                   NaN         NaN       1.680511e+06   \n",
       "75%                   NaN         NaN       7.000000e+06   \n",
       "max                   NaN         NaN       2.127194e+10   \n",
       "\n",
       "         company_permalink_upper                       name  \\\n",
       "count                     114949                     114948   \n",
       "unique                     66368                      66102   \n",
       "top     /ORGANIZATION/SOLARFLARE  Solarflare Communications   \n",
       "freq                          19                         19   \n",
       "mean                         NaN                        NaN   \n",
       "std                          NaN                        NaN   \n",
       "min                          NaN                        NaN   \n",
       "25%                          NaN                        NaN   \n",
       "50%                          NaN                        NaN   \n",
       "75%                          NaN                        NaN   \n",
       "max                          NaN                        NaN   \n",
       "\n",
       "                     homepage_url  category_list     status country_code  \\\n",
       "count                      108815         111539     114949       106271   \n",
       "unique                      61191          27296          4          137   \n",
       "top     http://www.solarflare.com  Biotechnology  operating          USA   \n",
       "freq                           19           8165      90153        72308   \n",
       "mean                          NaN            NaN        NaN          NaN   \n",
       "std                           NaN            NaN        NaN          NaN   \n",
       "min                           NaN            NaN        NaN          NaN   \n",
       "25%                           NaN            NaN        NaN          NaN   \n",
       "50%                           NaN            NaN        NaN          NaN   \n",
       "75%                           NaN            NaN        NaN          NaN   \n",
       "max                           NaN            NaN        NaN          NaN   \n",
       "\n",
       "       state_code       region           city  founded_at  \n",
       "count      104003       104782         104785       94428  \n",
       "unique        311         1092           5111        3978  \n",
       "top            CA  SF Bay Area  San Francisco  01-01-2012  \n",
       "freq        26664        19078           7422        4642  \n",
       "mean          NaN          NaN            NaN         NaN  \n",
       "std           NaN          NaN            NaN         NaN  \n",
       "min           NaN          NaN            NaN         NaN  \n",
       "25%           NaN          NaN            NaN         NaN  \n",
       "50%           NaN          NaN            NaN         NaN  \n",
       "75%           NaN          NaN            NaN         NaN  \n",
       "max           NaN          NaN            NaN         NaN  "
      ]
     },
     "execution_count": 805,
     "metadata": {},
     "output_type": "execute_result"
    }
   ],
   "source": [
    "#Lets drop few unnecessary columns\n",
    "master_frame = master_frame.drop(['company_permalink','permalink', 'permalink_upper'], axis=1)\n",
    "master_frame.describe(include='all')"
   ]
  },
  {
   "cell_type": "markdown",
   "metadata": {},
   "source": [
    "<b>2. CHECKPOINT 2</b> :- \n",
    "    <br>Average Values of Investments for Each of these Funding Types"
   ]
  },
  {
   "cell_type": "markdown",
   "metadata": {},
   "source": [
    "Our data has a lot of missing values which can affect the average value calculation. Let's analyze how much missing values are there in our table and delete/impute/interpolate them accordingly."
   ]
  },
  {
   "cell_type": "code",
   "execution_count": 806,
   "metadata": {},
   "outputs": [
    {
     "data": {
      "text/plain": [
       "funding_round_permalink     0.000000\n",
       "funding_round_type          0.000000\n",
       "funding_round_code         72.909725\n",
       "funded_at                   0.000000\n",
       "raised_amount_usd          17.390321\n",
       "company_permalink_upper     0.000000\n",
       "name                        0.000870\n",
       "homepage_url                5.336280\n",
       "category_list               2.966533\n",
       "status                      0.000000\n",
       "country_code                7.549435\n",
       "state_code                  9.522484\n",
       "region                      8.844792\n",
       "city                        8.842182\n",
       "founded_at                 17.852265\n",
       "dtype: float64"
      ]
     },
     "execution_count": 806,
     "metadata": {},
     "output_type": "execute_result"
    }
   ],
   "source": [
    "100*(master_frame.isna().sum()/len(master_frame.index))"
   ]
  },
  {
   "cell_type": "markdown",
   "metadata": {},
   "source": [
    "For country_code, we can think of filling up the values if we have information on the city or the region. For example, if the region is Delhi but have country_code NaN, then we can correctly write the country_code as IND. So, let's check if we have any rows where country_code is NaN but city, region, state_code not NaN:-"
   ]
  },
  {
   "cell_type": "code",
   "execution_count": 309,
   "metadata": {},
   "outputs": [
    {
     "data": {
      "text/plain": [
       "funding_round_permalink    0\n",
       "funding_round_type         0\n",
       "funding_round_code         0\n",
       "funded_at                  0\n",
       "raised_amount_usd          0\n",
       "company_permalink_upper    0\n",
       "name                       0\n",
       "homepage_url               0\n",
       "category_list              0\n",
       "status                     0\n",
       "country_code               0\n",
       "state_code                 0\n",
       "region                     0\n",
       "city                       0\n",
       "founded_at                 0\n",
       "dtype: int64"
      ]
     },
     "execution_count": 309,
     "metadata": {},
     "output_type": "execute_result"
    }
   ],
   "source": [
    "master_frame[master_frame['country_code'].isna() &\n",
    "             (~master_frame['state_code'].isna() | ~master_frame['region'].isna() | ~master_frame['city'].isna())].count()"
   ]
  },
  {
   "cell_type": "markdown",
   "metadata": {},
   "source": [
    "    We can see from above data 'funding_round_code' is kind of useless with 72% NaN values and we don't need it in our current requirement. Same applies for homepage_url, founded_at. city, region, state_code are useless too because we can't use it interpolate country_code. We can't delete category_list and country_code because we need those columns in future requirements. Let's drop all these unwanted columns to clean data."
   ]
  },
  {
   "cell_type": "code",
   "execution_count": 807,
   "metadata": {},
   "outputs": [],
   "source": [
    "master_frame = master_frame.drop(['funding_round_code', 'homepage_url', 'founded_at', 'state_code', 'region', 'city'], axis=1)"
   ]
  },
  {
   "cell_type": "code",
   "execution_count": 311,
   "metadata": {},
   "outputs": [
    {
     "data": {
      "text/plain": [
       "funding_round_permalink     0.000000\n",
       "funding_round_type          0.000000\n",
       "funded_at                   0.000000\n",
       "raised_amount_usd          17.390321\n",
       "company_permalink_upper     0.000000\n",
       "name                        0.000870\n",
       "category_list               2.966533\n",
       "status                      0.000000\n",
       "country_code                7.549435\n",
       "dtype: float64"
      ]
     },
     "execution_count": 311,
     "metadata": {},
     "output_type": "execute_result"
    }
   ],
   "source": [
    "100*(master_frame.isna().sum()/len(master_frame.index))"
   ]
  },
  {
   "cell_type": "markdown",
   "metadata": {},
   "source": [
    "For raised_amount_usd, we have 2 options. One is we try to fill it with average values and 2nd is to just delete the rows which have NaN values. We can use mean value to Let's look at the column description to decide if we can impute values in the column:-"
   ]
  },
  {
   "cell_type": "code",
   "execution_count": 290,
   "metadata": {},
   "outputs": [
    {
     "data": {
      "text/plain": [
       "count    9.495900e+04\n",
       "mean     1.042687e+07\n",
       "std      1.148212e+08\n",
       "min      0.000000e+00\n",
       "25%      3.225000e+05\n",
       "50%      1.680511e+06\n",
       "75%      7.000000e+06\n",
       "max      2.127194e+10\n",
       "Name: raised_amount_usd, dtype: float64"
      ]
     },
     "execution_count": 290,
     "metadata": {},
     "output_type": "execute_result"
    }
   ],
   "source": [
    "master_frame['raised_amount_usd'].describe()"
   ]
  },
  {
   "cell_type": "markdown",
   "metadata": {},
   "source": [
    "The difference in min and max is huge. So using mean value to imputing the values might ruin the data by introducing bias. So we just delete the rows with NaN values."
   ]
  },
  {
   "cell_type": "code",
   "execution_count": 808,
   "metadata": {},
   "outputs": [],
   "source": [
    "master_frame = master_frame[~master_frame['raised_amount_usd'].isna()]"
   ]
  },
  {
   "cell_type": "code",
   "execution_count": 313,
   "metadata": {},
   "outputs": [
    {
     "data": {
      "text/plain": [
       "funding_round_permalink    0.000000\n",
       "funding_round_type         0.000000\n",
       "funded_at                  0.000000\n",
       "raised_amount_usd          0.000000\n",
       "company_permalink_upper    0.000000\n",
       "name                       0.001053\n",
       "category_list              1.099422\n",
       "status                     0.000000\n",
       "country_code               6.161607\n",
       "dtype: float64"
      ]
     },
     "execution_count": 313,
     "metadata": {},
     "output_type": "execute_result"
    }
   ],
   "source": [
    "100*(master_frame.isna().sum()/len(master_frame.index))"
   ]
  },
  {
   "cell_type": "markdown",
   "metadata": {},
   "source": [
    "country_code and category_list are important columns which we can't drop and also can't ignore. The percentage of NaN values in it is very less so we will delete them too:-"
   ]
  },
  {
   "cell_type": "code",
   "execution_count": 809,
   "metadata": {},
   "outputs": [
    {
     "data": {
      "text/plain": [
       "funding_round_permalink    0.00000\n",
       "funding_round_type         0.00000\n",
       "funded_at                  0.00000\n",
       "raised_amount_usd          0.00000\n",
       "company_permalink_upper    0.00000\n",
       "name                       0.00113\n",
       "category_list              0.00000\n",
       "status                     0.00000\n",
       "country_code               0.00000\n",
       "dtype: float64"
      ]
     },
     "execution_count": 809,
     "metadata": {},
     "output_type": "execute_result"
    }
   ],
   "source": [
    "master_frame = master_frame[~master_frame['country_code'].isna()]\n",
    "master_frame = master_frame[~master_frame['category_list'].isna()]\n",
    "100*(master_frame.isna().sum()/len(master_frame.index))"
   ]
  },
  {
   "cell_type": "code",
   "execution_count": 345,
   "metadata": {},
   "outputs": [
    {
     "data": {
      "text/html": [
       "<div>\n",
       "<style scoped>\n",
       "    .dataframe tbody tr th:only-of-type {\n",
       "        vertical-align: middle;\n",
       "    }\n",
       "\n",
       "    .dataframe tbody tr th {\n",
       "        vertical-align: top;\n",
       "    }\n",
       "\n",
       "    .dataframe thead th {\n",
       "        text-align: right;\n",
       "    }\n",
       "</style>\n",
       "<table border=\"1\" class=\"dataframe\">\n",
       "  <thead>\n",
       "    <tr style=\"text-align: right;\">\n",
       "      <th></th>\n",
       "      <th>funding_round_permalink</th>\n",
       "      <th>funding_round_type</th>\n",
       "      <th>funded_at</th>\n",
       "      <th>raised_amount_usd</th>\n",
       "      <th>company_permalink_upper</th>\n",
       "      <th>name</th>\n",
       "      <th>category_list</th>\n",
       "      <th>status</th>\n",
       "      <th>country_code</th>\n",
       "    </tr>\n",
       "  </thead>\n",
       "  <tbody>\n",
       "    <tr>\n",
       "      <td>98692</td>\n",
       "      <td>/funding-round/9c987e616755a78c51a4aa67c27a2a93</td>\n",
       "      <td>seed</td>\n",
       "      <td>01-03-2012</td>\n",
       "      <td>25000.0</td>\n",
       "      <td>/ORGANIZATION/TELL-IT-IN</td>\n",
       "      <td>NaN</td>\n",
       "      <td>Startups</td>\n",
       "      <td>closed</td>\n",
       "      <td>USA</td>\n",
       "    </tr>\n",
       "  </tbody>\n",
       "</table>\n",
       "</div>"
      ],
      "text/plain": [
       "                               funding_round_permalink funding_round_type  \\\n",
       "98692  /funding-round/9c987e616755a78c51a4aa67c27a2a93               seed   \n",
       "\n",
       "        funded_at  raised_amount_usd   company_permalink_upper name  \\\n",
       "98692  01-03-2012            25000.0  /ORGANIZATION/TELL-IT-IN  NaN   \n",
       "\n",
       "      category_list  status country_code  \n",
       "98692      Startups  closed          USA  "
      ]
     },
     "execution_count": 345,
     "metadata": {},
     "output_type": "execute_result"
    }
   ],
   "source": [
    "master_frame[master_frame['name'].isna()]"
   ]
  },
  {
   "cell_type": "markdown",
   "metadata": {},
   "source": [
    "name coumn has only 1 NaN value but name is not an important field to get any business insight so I will ignore it. I am also not dropping this column just because of 1 missing value. Now we have completely cleaned our data. Now we will proceed to find the average funding amount per funding type. The average value is not always mean. It can be median also. We already saw that the difference between min and max values was huge. Let's visualize it using boxplots to come to final conclusion."
   ]
  },
  {
   "cell_type": "code",
   "execution_count": 347,
   "metadata": {},
   "outputs": [
    {
     "data": {
      "text/plain": [
       "<seaborn.axisgrid.FacetGrid at 0x1c9955ddb48>"
      ]
     },
     "execution_count": 347,
     "metadata": {},
     "output_type": "execute_result"
    },
    {
     "data": {
      "image/png": "[encoded data removed]",
      "text/plain": [
       "<Figure size 720x360 with 1 Axes>"
      ]
     },
     "metadata": {
      "needs_background": "light"
     },
     "output_type": "display_data"
    }
   ],
   "source": [
    "import seaborn as sns\n",
    "import matplotlib.pyplot as plt\n",
    "master_frame1 = master_frame[master_frame['raised_amount_usd'] < 30000000.0]\n",
    "sns.catplot(x=\"funding_round_type\", y=\"raised_amount_usd\", kind=\"box\", height=5, aspect=2, data=master_frame1[master_frame1['funding_round_type'].isin(['venture', 'angel', 'seed','private_equity'])])"
   ]
  },
  {
   "cell_type": "markdown",
   "metadata": {},
   "source": [
    "as we can see from above boxplots are clearly positively skewed. mean value is larger than median because of the outlier large values which can't be considered to calculate the central tendency. From this observation, i am convinced that we should be using median."
   ]
  },
  {
   "cell_type": "code",
   "execution_count": 349,
   "metadata": {
    "scrolled": false
   },
   "outputs": [
    {
     "data": {
      "text/html": [
       "<div>\n",
       "<style scoped>\n",
       "    .dataframe tbody tr th:only-of-type {\n",
       "        vertical-align: middle;\n",
       "    }\n",
       "\n",
       "    .dataframe tbody tr th {\n",
       "        vertical-align: top;\n",
       "    }\n",
       "\n",
       "    .dataframe thead th {\n",
       "        text-align: right;\n",
       "    }\n",
       "</style>\n",
       "<table border=\"1\" class=\"dataframe\">\n",
       "  <thead>\n",
       "    <tr style=\"text-align: right;\">\n",
       "      <th></th>\n",
       "      <th>raised_amount_usd</th>\n",
       "    </tr>\n",
       "    <tr>\n",
       "      <th>funding_round_type</th>\n",
       "      <th></th>\n",
       "    </tr>\n",
       "  </thead>\n",
       "  <tbody>\n",
       "    <tr>\n",
       "      <td>angel</td>\n",
       "      <td>414906.0</td>\n",
       "    </tr>\n",
       "    <tr>\n",
       "      <td>convertible_note</td>\n",
       "      <td>300000.0</td>\n",
       "    </tr>\n",
       "    <tr>\n",
       "      <td>debt_financing</td>\n",
       "      <td>1096653.0</td>\n",
       "    </tr>\n",
       "    <tr>\n",
       "      <td>equity_crowdfunding</td>\n",
       "      <td>85000.0</td>\n",
       "    </tr>\n",
       "    <tr>\n",
       "      <td>grant</td>\n",
       "      <td>225000.0</td>\n",
       "    </tr>\n",
       "    <tr>\n",
       "      <td>non_equity_assistance</td>\n",
       "      <td>60000.0</td>\n",
       "    </tr>\n",
       "    <tr>\n",
       "      <td>post_ipo_debt</td>\n",
       "      <td>19900000.0</td>\n",
       "    </tr>\n",
       "    <tr>\n",
       "      <td>post_ipo_equity</td>\n",
       "      <td>12262852.5</td>\n",
       "    </tr>\n",
       "    <tr>\n",
       "      <td>private_equity</td>\n",
       "      <td>20000000.0</td>\n",
       "    </tr>\n",
       "    <tr>\n",
       "      <td>product_crowdfunding</td>\n",
       "      <td>211500.0</td>\n",
       "    </tr>\n",
       "    <tr>\n",
       "      <td>secondary_market</td>\n",
       "      <td>45850000.0</td>\n",
       "    </tr>\n",
       "    <tr>\n",
       "      <td>seed</td>\n",
       "      <td>300000.0</td>\n",
       "    </tr>\n",
       "    <tr>\n",
       "      <td>undisclosed</td>\n",
       "      <td>1100000.0</td>\n",
       "    </tr>\n",
       "    <tr>\n",
       "      <td>venture</td>\n",
       "      <td>5000000.0</td>\n",
       "    </tr>\n",
       "  </tbody>\n",
       "</table>\n",
       "</div>"
      ],
      "text/plain": [
       "                       raised_amount_usd\n",
       "funding_round_type                      \n",
       "angel                           414906.0\n",
       "convertible_note                300000.0\n",
       "debt_financing                 1096653.0\n",
       "equity_crowdfunding              85000.0\n",
       "grant                           225000.0\n",
       "non_equity_assistance            60000.0\n",
       "post_ipo_debt                 19900000.0\n",
       "post_ipo_equity               12262852.5\n",
       "private_equity                20000000.0\n",
       "product_crowdfunding            211500.0\n",
       "secondary_market              45850000.0\n",
       "seed                            300000.0\n",
       "undisclosed                    1100000.0\n",
       "venture                        5000000.0"
      ]
     },
     "execution_count": 349,
     "metadata": {},
     "output_type": "execute_result"
    }
   ],
   "source": [
    "master_frame.groupby('funding_round_type').median()"
   ]
  },
  {
   "cell_type": "markdown",
   "metadata": {},
   "source": [
    "<b>3. Checkpoint 3 :- </b> <br> Analysing the Top 3 English-Speaking Countries"
   ]
  },
  {
   "cell_type": "markdown",
   "metadata": {},
   "source": [
    "The chosen investment type is venture because Spark Funds wants to invest between 5-15 million USD and we want to narrow down the countries where the company can invest in. So lets first filter based on venture"
   ]
  },
  {
   "cell_type": "code",
   "execution_count": 810,
   "metadata": {},
   "outputs": [],
   "source": [
    "master_frame_All = master_frame\n",
    "master_frame = master_frame[master_frame['funding_round_type']=='venture']"
   ]
  },
  {
   "cell_type": "markdown",
   "metadata": {},
   "source": [
    "Next is to find the top 9 countries where most amout of investments have happened in venture Funding type."
   ]
  },
  {
   "cell_type": "code",
   "execution_count": 864,
   "metadata": {},
   "outputs": [
    {
     "data": {
      "text/plain": [
       "['USA', 'CHN', 'GBR', 'IND', 'CAN', 'FRA', 'ISR', 'DEU', 'JPN']"
      ]
     },
     "execution_count": 864,
     "metadata": {},
     "output_type": "execute_result"
    }
   ],
   "source": [
    "top9 = master_frame.groupby('country_code')['raised_amount_usd'].sum().sort_values(\n",
    "ascending=False)\n",
    "top9 = top9.index.tolist()[:9]\n",
    "top9"
   ]
  },
  {
   "cell_type": "markdown",
   "metadata": {},
   "source": [
    "So we have now got the list of top 9 countries now we have to find out the top 3 counties where English is an official language. For that, we have been a a wikipedia page https://en.wikipedia.org/wiki/List_of_territorial_entities_where_English_is_an_official_language. Instead of manually reading the data from this page, we will use BeautifulSoup to scrape the data and form a list of countries where English is an official language. "
   ]
  },
  {
   "cell_type": "code",
   "execution_count": 871,
   "metadata": {},
   "outputs": [],
   "source": [
    "def getListofOfficialEnglishLanguageCountries():\n",
    "    from bs4 import BeautifulSoup\n",
    "    import requests\n",
    "    URL = 'https://en.wikipedia.org/wiki/List_of_territorial_entities_where_English_is_an_official_language'\n",
    "    response =  requests.get(URL)\n",
    "    soup = BeautifulSoup(response.text, 'html.parser')\n",
    "    #table1 =  soup.find('table', {'class':'wikitable sortable'}).tbody\n",
    "    englishSpeakingCountries = []\n",
    "    for row in soup.findAll('tr'):\n",
    "       dataRow = []\n",
    "       for cell in row.find_all(\"td\")[2:3]:\n",
    "            dataRow.append(cell.get_text().strip())\n",
    "       englishSpeakingCountries.append(\", \".join(dataRow))\n",
    "    englishSpeakingCountries = englishSpeakingCountries[1:62]\n",
    "    return englishSpeakingCountries"
   ]
  },
  {
   "cell_type": "code",
   "execution_count": 873,
   "metadata": {},
   "outputs": [
    {
     "data": {
      "text/plain": [
       "['AUS',\n",
       " 'NZL',\n",
       " 'GBR',\n",
       " 'USA',\n",
       " '',\n",
       " 'ATG',\n",
       " 'BHS',\n",
       " 'BRB',\n",
       " 'BLZ',\n",
       " 'BWA',\n",
       " 'BDI',\n",
       " 'CMR',\n",
       " 'CAN',\n",
       " 'COK',\n",
       " 'DMA',\n",
       " 'SWZ',\n",
       " 'FJI',\n",
       " 'GMB',\n",
       " 'GHA',\n",
       " 'GRD',\n",
       " 'GUY',\n",
       " 'IND',\n",
       " 'IRL',\n",
       " 'JAM',\n",
       " 'KEN',\n",
       " 'KIR',\n",
       " 'LSO',\n",
       " 'LBR',\n",
       " 'MWI',\n",
       " 'MLT',\n",
       " 'MHL',\n",
       " 'MUS',\n",
       " 'FSM',\n",
       " 'NAM',\n",
       " 'NRU',\n",
       " 'NGA',\n",
       " 'NIU',\n",
       " 'PAK',\n",
       " 'PLW',\n",
       " 'PNG',\n",
       " 'PHL',\n",
       " 'RWA',\n",
       " 'KNA',\n",
       " 'LCA',\n",
       " 'VCT',\n",
       " 'WSM',\n",
       " 'SYC',\n",
       " 'SLE',\n",
       " 'SGP',\n",
       " 'SLB',\n",
       " 'ZAF',\n",
       " 'SSD',\n",
       " 'SDN',\n",
       " 'TZA',\n",
       " 'TON',\n",
       " 'TTO',\n",
       " 'TUV',\n",
       " 'UGA',\n",
       " 'VUT',\n",
       " 'ZMB',\n",
       " 'ZWE']"
      ]
     },
     "execution_count": 873,
     "metadata": {},
     "output_type": "execute_result"
    }
   ],
   "source": [
    "englishSpeakingCountries = getListofOfficialEnglishLanguageCountries()\n",
    "englishSpeakingCountries"
   ]
  },
  {
   "cell_type": "markdown",
   "metadata": {},
   "source": [
    "Now that we have the list of countries where English is an official language, let's compare our top 9 countries with this list to find out the top 3 countries where Spark Funds would want to invest:-"
   ]
  },
  {
   "cell_type": "code",
   "execution_count": 923,
   "metadata": {},
   "outputs": [
    {
     "data": {
      "text/plain": [
       "['USA', 'GBR', 'IND']"
      ]
     },
     "execution_count": 923,
     "metadata": {},
     "output_type": "execute_result"
    }
   ],
   "source": [
    "top3countries=[]\n",
    "for ctry in top9:\n",
    "    if ctry in englishSpeakingCountries:\n",
    "        top3countries.append(ctry)\n",
    "top3countries[:3]    "
   ]
  },
  {
   "cell_type": "markdown",
   "metadata": {},
   "source": [
    "<b>Checkpint 4 : sector analysis<b>"
   ]
  },
  {
   "cell_type": "markdown",
   "metadata": {},
   "source": [
    "Now that we have found our top 3 countries where Spark Funds would want to invest, let's now filter data based on these 3 countries:-"
   ]
  },
  {
   "cell_type": "code",
   "execution_count": 925,
   "metadata": {},
   "outputs": [],
   "source": [
    "master_frame = master_frame[master_frame['country_code'].isin(['USA', 'GBR', 'IND'])]"
   ]
  },
  {
   "cell_type": "markdown",
   "metadata": {},
   "source": [
    "As given in the instructions, the business rule is that the first string before the pipe '|' will be the primary sector. I am creating a new column to save the primary sector and will keep category_list column as it is."
   ]
  },
  {
   "cell_type": "code",
   "execution_count": 926,
   "metadata": {},
   "outputs": [
    {
     "data": {
      "text/plain": [
       "0                 Media\n",
       "10            Analytics\n",
       "11            Analytics\n",
       "12            Analytics\n",
       "22                 Apps\n",
       "              ...      \n",
       "114920    Biotechnology\n",
       "114922    Biotechnology\n",
       "114923    Biotechnology\n",
       "114934       E-Commerce\n",
       "114936    Biotechnology\n",
       "Name: primary_sector, Length: 38803, dtype: object"
      ]
     },
     "execution_count": 926,
     "metadata": {},
     "output_type": "execute_result"
    }
   ],
   "source": [
    "master_frame['primary_sector'] = master_frame['category_list'].apply(lambda x : x.split('|')[0])\n",
    "master_frame['primary_sector']"
   ]
  },
  {
   "cell_type": "markdown",
   "metadata": {},
   "source": [
    "Reading mapping.csv to get mapping data for 8 main sectors. The encoding used in it is UTF-8 so we dont have to specify any special encoding."
   ]
  },
  {
   "cell_type": "code",
   "execution_count": 927,
   "metadata": {},
   "outputs": [
    {
     "data": {
      "text/html": [
       "<div>\n",
       "<style scoped>\n",
       "    .dataframe tbody tr th:only-of-type {\n",
       "        vertical-align: middle;\n",
       "    }\n",
       "\n",
       "    .dataframe tbody tr th {\n",
       "        vertical-align: top;\n",
       "    }\n",
       "\n",
       "    .dataframe thead th {\n",
       "        text-align: right;\n",
       "    }\n",
       "</style>\n",
       "<table border=\"1\" class=\"dataframe\">\n",
       "  <thead>\n",
       "    <tr style=\"text-align: right;\">\n",
       "      <th></th>\n",
       "      <th>category_list</th>\n",
       "      <th>Automotive &amp; Sports</th>\n",
       "      <th>Blanks</th>\n",
       "      <th>Cleantech / Semiconductors</th>\n",
       "      <th>Entertainment</th>\n",
       "      <th>Health</th>\n",
       "      <th>Manufacturing</th>\n",
       "      <th>News, Search and Messaging</th>\n",
       "      <th>Others</th>\n",
       "      <th>Social, Finance, Analytics, Advertising</th>\n",
       "    </tr>\n",
       "  </thead>\n",
       "  <tbody>\n",
       "    <tr>\n",
       "      <td>0</td>\n",
       "      <td>NaN</td>\n",
       "      <td>0</td>\n",
       "      <td>1</td>\n",
       "      <td>0</td>\n",
       "      <td>0</td>\n",
       "      <td>0</td>\n",
       "      <td>0</td>\n",
       "      <td>0</td>\n",
       "      <td>0</td>\n",
       "      <td>0</td>\n",
       "    </tr>\n",
       "    <tr>\n",
       "      <td>1</td>\n",
       "      <td>3D</td>\n",
       "      <td>0</td>\n",
       "      <td>0</td>\n",
       "      <td>0</td>\n",
       "      <td>0</td>\n",
       "      <td>0</td>\n",
       "      <td>1</td>\n",
       "      <td>0</td>\n",
       "      <td>0</td>\n",
       "      <td>0</td>\n",
       "    </tr>\n",
       "    <tr>\n",
       "      <td>2</td>\n",
       "      <td>3D Printing</td>\n",
       "      <td>0</td>\n",
       "      <td>0</td>\n",
       "      <td>0</td>\n",
       "      <td>0</td>\n",
       "      <td>0</td>\n",
       "      <td>1</td>\n",
       "      <td>0</td>\n",
       "      <td>0</td>\n",
       "      <td>0</td>\n",
       "    </tr>\n",
       "    <tr>\n",
       "      <td>3</td>\n",
       "      <td>3D Technology</td>\n",
       "      <td>0</td>\n",
       "      <td>0</td>\n",
       "      <td>0</td>\n",
       "      <td>0</td>\n",
       "      <td>0</td>\n",
       "      <td>1</td>\n",
       "      <td>0</td>\n",
       "      <td>0</td>\n",
       "      <td>0</td>\n",
       "    </tr>\n",
       "    <tr>\n",
       "      <td>4</td>\n",
       "      <td>Accounting</td>\n",
       "      <td>0</td>\n",
       "      <td>0</td>\n",
       "      <td>0</td>\n",
       "      <td>0</td>\n",
       "      <td>0</td>\n",
       "      <td>0</td>\n",
       "      <td>0</td>\n",
       "      <td>0</td>\n",
       "      <td>1</td>\n",
       "    </tr>\n",
       "    <tr>\n",
       "      <td>...</td>\n",
       "      <td>...</td>\n",
       "      <td>...</td>\n",
       "      <td>...</td>\n",
       "      <td>...</td>\n",
       "      <td>...</td>\n",
       "      <td>...</td>\n",
       "      <td>...</td>\n",
       "      <td>...</td>\n",
       "      <td>...</td>\n",
       "      <td>...</td>\n",
       "    </tr>\n",
       "    <tr>\n",
       "      <td>683</td>\n",
       "      <td>Wholesale</td>\n",
       "      <td>0</td>\n",
       "      <td>0</td>\n",
       "      <td>0</td>\n",
       "      <td>0</td>\n",
       "      <td>0</td>\n",
       "      <td>0</td>\n",
       "      <td>0</td>\n",
       "      <td>1</td>\n",
       "      <td>0</td>\n",
       "    </tr>\n",
       "    <tr>\n",
       "      <td>684</td>\n",
       "      <td>Wine And Spirits</td>\n",
       "      <td>0</td>\n",
       "      <td>0</td>\n",
       "      <td>0</td>\n",
       "      <td>1</td>\n",
       "      <td>0</td>\n",
       "      <td>0</td>\n",
       "      <td>0</td>\n",
       "      <td>0</td>\n",
       "      <td>0</td>\n",
       "    </tr>\n",
       "    <tr>\n",
       "      <td>685</td>\n",
       "      <td>Wireless</td>\n",
       "      <td>0</td>\n",
       "      <td>0</td>\n",
       "      <td>0</td>\n",
       "      <td>1</td>\n",
       "      <td>0</td>\n",
       "      <td>0</td>\n",
       "      <td>0</td>\n",
       "      <td>0</td>\n",
       "      <td>0</td>\n",
       "    </tr>\n",
       "    <tr>\n",
       "      <td>686</td>\n",
       "      <td>Women</td>\n",
       "      <td>0</td>\n",
       "      <td>0</td>\n",
       "      <td>0</td>\n",
       "      <td>0</td>\n",
       "      <td>0</td>\n",
       "      <td>0</td>\n",
       "      <td>0</td>\n",
       "      <td>1</td>\n",
       "      <td>0</td>\n",
       "    </tr>\n",
       "    <tr>\n",
       "      <td>687</td>\n",
       "      <td>Young Adults</td>\n",
       "      <td>0</td>\n",
       "      <td>0</td>\n",
       "      <td>0</td>\n",
       "      <td>0</td>\n",
       "      <td>0</td>\n",
       "      <td>0</td>\n",
       "      <td>0</td>\n",
       "      <td>1</td>\n",
       "      <td>0</td>\n",
       "    </tr>\n",
       "  </tbody>\n",
       "</table>\n",
       "<p>688 rows × 10 columns</p>\n",
       "</div>"
      ],
      "text/plain": [
       "        category_list  Automotive & Sports  Blanks  \\\n",
       "0                 NaN                    0       1   \n",
       "1                  3D                    0       0   \n",
       "2         3D Printing                    0       0   \n",
       "3       3D Technology                    0       0   \n",
       "4          Accounting                    0       0   \n",
       "..                ...                  ...     ...   \n",
       "683         Wholesale                    0       0   \n",
       "684  Wine And Spirits                    0       0   \n",
       "685          Wireless                    0       0   \n",
       "686             Women                    0       0   \n",
       "687      Young Adults                    0       0   \n",
       "\n",
       "     Cleantech / Semiconductors  Entertainment  Health  Manufacturing  \\\n",
       "0                             0              0       0              0   \n",
       "1                             0              0       0              1   \n",
       "2                             0              0       0              1   \n",
       "3                             0              0       0              1   \n",
       "4                             0              0       0              0   \n",
       "..                          ...            ...     ...            ...   \n",
       "683                           0              0       0              0   \n",
       "684                           0              1       0              0   \n",
       "685                           0              1       0              0   \n",
       "686                           0              0       0              0   \n",
       "687                           0              0       0              0   \n",
       "\n",
       "     News, Search and Messaging  Others  \\\n",
       "0                             0       0   \n",
       "1                             0       0   \n",
       "2                             0       0   \n",
       "3                             0       0   \n",
       "4                             0       0   \n",
       "..                          ...     ...   \n",
       "683                           0       1   \n",
       "684                           0       0   \n",
       "685                           0       0   \n",
       "686                           0       1   \n",
       "687                           0       1   \n",
       "\n",
       "     Social, Finance, Analytics, Advertising  \n",
       "0                                          0  \n",
       "1                                          0  \n",
       "2                                          0  \n",
       "3                                          0  \n",
       "4                                          1  \n",
       "..                                       ...  \n",
       "683                                        0  \n",
       "684                                        0  \n",
       "685                                        0  \n",
       "686                                        0  \n",
       "687                                        0  \n",
       "\n",
       "[688 rows x 10 columns]"
      ]
     },
     "execution_count": 927,
     "metadata": {},
     "output_type": "execute_result"
    }
   ],
   "source": [
    "mapping = pd.read_csv('mapping.csv')\n",
    "mapping"
   ]
  },
  {
   "cell_type": "markdown",
   "metadata": {},
   "source": [
    "Let's now clean mapping dataframe. As seen from the above data, the first category list is NaN. So, i will remove that category."
   ]
  },
  {
   "cell_type": "code",
   "execution_count": 928,
   "metadata": {},
   "outputs": [
    {
     "data": {
      "text/html": [
       "<div>\n",
       "<style scoped>\n",
       "    .dataframe tbody tr th:only-of-type {\n",
       "        vertical-align: middle;\n",
       "    }\n",
       "\n",
       "    .dataframe tbody tr th {\n",
       "        vertical-align: top;\n",
       "    }\n",
       "\n",
       "    .dataframe thead th {\n",
       "        text-align: right;\n",
       "    }\n",
       "</style>\n",
       "<table border=\"1\" class=\"dataframe\">\n",
       "  <thead>\n",
       "    <tr style=\"text-align: right;\">\n",
       "      <th></th>\n",
       "      <th>Automotive &amp; Sports</th>\n",
       "      <th>Blanks</th>\n",
       "      <th>Cleantech / Semiconductors</th>\n",
       "      <th>Entertainment</th>\n",
       "      <th>Health</th>\n",
       "      <th>Manufacturing</th>\n",
       "      <th>News, Search and Messaging</th>\n",
       "      <th>Others</th>\n",
       "      <th>Social, Finance, Analytics, Advertising</th>\n",
       "    </tr>\n",
       "  </thead>\n",
       "  <tbody>\n",
       "    <tr>\n",
       "      <td>count</td>\n",
       "      <td>687.000000</td>\n",
       "      <td>687.0</td>\n",
       "      <td>687.000000</td>\n",
       "      <td>687.000000</td>\n",
       "      <td>687.000000</td>\n",
       "      <td>687.000000</td>\n",
       "      <td>687.000000</td>\n",
       "      <td>687.000000</td>\n",
       "      <td>687.000000</td>\n",
       "    </tr>\n",
       "    <tr>\n",
       "      <td>mean</td>\n",
       "      <td>0.032023</td>\n",
       "      <td>0.0</td>\n",
       "      <td>0.077147</td>\n",
       "      <td>0.129549</td>\n",
       "      <td>0.091703</td>\n",
       "      <td>0.058224</td>\n",
       "      <td>0.104803</td>\n",
       "      <td>0.283843</td>\n",
       "      <td>0.222707</td>\n",
       "    </tr>\n",
       "    <tr>\n",
       "      <td>std</td>\n",
       "      <td>0.176190</td>\n",
       "      <td>0.0</td>\n",
       "      <td>0.267019</td>\n",
       "      <td>0.336051</td>\n",
       "      <td>0.288817</td>\n",
       "      <td>0.234337</td>\n",
       "      <td>0.306523</td>\n",
       "      <td>0.451190</td>\n",
       "      <td>0.416367</td>\n",
       "    </tr>\n",
       "    <tr>\n",
       "      <td>min</td>\n",
       "      <td>0.000000</td>\n",
       "      <td>0.0</td>\n",
       "      <td>0.000000</td>\n",
       "      <td>0.000000</td>\n",
       "      <td>0.000000</td>\n",
       "      <td>0.000000</td>\n",
       "      <td>0.000000</td>\n",
       "      <td>0.000000</td>\n",
       "      <td>0.000000</td>\n",
       "    </tr>\n",
       "    <tr>\n",
       "      <td>25%</td>\n",
       "      <td>0.000000</td>\n",
       "      <td>0.0</td>\n",
       "      <td>0.000000</td>\n",
       "      <td>0.000000</td>\n",
       "      <td>0.000000</td>\n",
       "      <td>0.000000</td>\n",
       "      <td>0.000000</td>\n",
       "      <td>0.000000</td>\n",
       "      <td>0.000000</td>\n",
       "    </tr>\n",
       "    <tr>\n",
       "      <td>50%</td>\n",
       "      <td>0.000000</td>\n",
       "      <td>0.0</td>\n",
       "      <td>0.000000</td>\n",
       "      <td>0.000000</td>\n",
       "      <td>0.000000</td>\n",
       "      <td>0.000000</td>\n",
       "      <td>0.000000</td>\n",
       "      <td>0.000000</td>\n",
       "      <td>0.000000</td>\n",
       "    </tr>\n",
       "    <tr>\n",
       "      <td>75%</td>\n",
       "      <td>0.000000</td>\n",
       "      <td>0.0</td>\n",
       "      <td>0.000000</td>\n",
       "      <td>0.000000</td>\n",
       "      <td>0.000000</td>\n",
       "      <td>0.000000</td>\n",
       "      <td>0.000000</td>\n",
       "      <td>1.000000</td>\n",
       "      <td>0.000000</td>\n",
       "    </tr>\n",
       "    <tr>\n",
       "      <td>max</td>\n",
       "      <td>1.000000</td>\n",
       "      <td>0.0</td>\n",
       "      <td>1.000000</td>\n",
       "      <td>1.000000</td>\n",
       "      <td>1.000000</td>\n",
       "      <td>1.000000</td>\n",
       "      <td>1.000000</td>\n",
       "      <td>1.000000</td>\n",
       "      <td>1.000000</td>\n",
       "    </tr>\n",
       "  </tbody>\n",
       "</table>\n",
       "</div>"
      ],
      "text/plain": [
       "       Automotive & Sports  Blanks  Cleantech / Semiconductors  Entertainment  \\\n",
       "count           687.000000   687.0                  687.000000     687.000000   \n",
       "mean              0.032023     0.0                    0.077147       0.129549   \n",
       "std               0.176190     0.0                    0.267019       0.336051   \n",
       "min               0.000000     0.0                    0.000000       0.000000   \n",
       "25%               0.000000     0.0                    0.000000       0.000000   \n",
       "50%               0.000000     0.0                    0.000000       0.000000   \n",
       "75%               0.000000     0.0                    0.000000       0.000000   \n",
       "max               1.000000     0.0                    1.000000       1.000000   \n",
       "\n",
       "           Health  Manufacturing  News, Search and Messaging      Others  \\\n",
       "count  687.000000     687.000000                  687.000000  687.000000   \n",
       "mean     0.091703       0.058224                    0.104803    0.283843   \n",
       "std      0.288817       0.234337                    0.306523    0.451190   \n",
       "min      0.000000       0.000000                    0.000000    0.000000   \n",
       "25%      0.000000       0.000000                    0.000000    0.000000   \n",
       "50%      0.000000       0.000000                    0.000000    0.000000   \n",
       "75%      0.000000       0.000000                    0.000000    1.000000   \n",
       "max      1.000000       1.000000                    1.000000    1.000000   \n",
       "\n",
       "       Social, Finance, Analytics, Advertising  \n",
       "count                               687.000000  \n",
       "mean                                  0.222707  \n",
       "std                                   0.416367  \n",
       "min                                   0.000000  \n",
       "25%                                   0.000000  \n",
       "50%                                   0.000000  \n",
       "75%                                   0.000000  \n",
       "max                                   1.000000  "
      ]
     },
     "execution_count": 928,
     "metadata": {},
     "output_type": "execute_result"
    }
   ],
   "source": [
    "mapping = mapping[~mapping['category_list'].isna()]\n",
    "mapping.describe()"
   ]
  },
  {
   "cell_type": "markdown",
   "metadata": {},
   "source": [
    "As a part of the cleaning activity, I will make all categories in lower cases so that cases won't create an issue while merging dataframes."
   ]
  },
  {
   "cell_type": "code",
   "execution_count": 929,
   "metadata": {},
   "outputs": [
    {
     "data": {
      "text/plain": [
       "1                    3d\n",
       "2           3d printing\n",
       "3         3d technology\n",
       "4            accounting\n",
       "5      active lifestyle\n",
       "             ...       \n",
       "683           wholesale\n",
       "684    wine and spirits\n",
       "685            wireless\n",
       "686               women\n",
       "687        young adults\n",
       "Name: category_list, Length: 687, dtype: object"
      ]
     },
     "execution_count": 929,
     "metadata": {},
     "output_type": "execute_result"
    }
   ],
   "source": [
    "mapping['category_list'] = mapping['category_list'].str.lower()\n",
    "mapping['category_list']"
   ]
  },
  {
   "cell_type": "markdown",
   "metadata": {},
   "source": [
    "From some analysis, i saw that there are some categories with 0(zero) in place of na. Let's fetch all such data:-"
   ]
  },
  {
   "cell_type": "code",
   "execution_count": 933,
   "metadata": {},
   "outputs": [
    {
     "data": {
      "text/html": [
       "<div>\n",
       "<style scoped>\n",
       "    .dataframe tbody tr th:only-of-type {\n",
       "        vertical-align: middle;\n",
       "    }\n",
       "\n",
       "    .dataframe tbody tr th {\n",
       "        vertical-align: top;\n",
       "    }\n",
       "\n",
       "    .dataframe thead th {\n",
       "        text-align: right;\n",
       "    }\n",
       "</style>\n",
       "<table border=\"1\" class=\"dataframe\">\n",
       "  <thead>\n",
       "    <tr style=\"text-align: right;\">\n",
       "      <th></th>\n",
       "      <th>category_list</th>\n",
       "      <th>Automotive &amp; Sports</th>\n",
       "      <th>Blanks</th>\n",
       "      <th>Cleantech / Semiconductors</th>\n",
       "      <th>Entertainment</th>\n",
       "      <th>Health</th>\n",
       "      <th>Manufacturing</th>\n",
       "      <th>News, Search and Messaging</th>\n",
       "      <th>Others</th>\n",
       "      <th>Social, Finance, Analytics, Advertising</th>\n",
       "    </tr>\n",
       "  </thead>\n",
       "  <tbody>\n",
       "    <tr>\n",
       "      <td>20</td>\n",
       "      <td>alter0tive medicine</td>\n",
       "      <td>0</td>\n",
       "      <td>0</td>\n",
       "      <td>0</td>\n",
       "      <td>0</td>\n",
       "      <td>1</td>\n",
       "      <td>0</td>\n",
       "      <td>0</td>\n",
       "      <td>0</td>\n",
       "      <td>0</td>\n",
       "    </tr>\n",
       "    <tr>\n",
       "      <td>22</td>\n",
       "      <td>a0lytics</td>\n",
       "      <td>0</td>\n",
       "      <td>0</td>\n",
       "      <td>0</td>\n",
       "      <td>0</td>\n",
       "      <td>0</td>\n",
       "      <td>0</td>\n",
       "      <td>0</td>\n",
       "      <td>0</td>\n",
       "      <td>1</td>\n",
       "    </tr>\n",
       "    <tr>\n",
       "      <td>59</td>\n",
       "      <td>big data a0lytics</td>\n",
       "      <td>0</td>\n",
       "      <td>0</td>\n",
       "      <td>0</td>\n",
       "      <td>0</td>\n",
       "      <td>0</td>\n",
       "      <td>0</td>\n",
       "      <td>0</td>\n",
       "      <td>0</td>\n",
       "      <td>1</td>\n",
       "    </tr>\n",
       "    <tr>\n",
       "      <td>79</td>\n",
       "      <td>business a0lytics</td>\n",
       "      <td>0</td>\n",
       "      <td>0</td>\n",
       "      <td>0</td>\n",
       "      <td>0</td>\n",
       "      <td>0</td>\n",
       "      <td>0</td>\n",
       "      <td>0</td>\n",
       "      <td>0</td>\n",
       "      <td>1</td>\n",
       "    </tr>\n",
       "    <tr>\n",
       "      <td>89</td>\n",
       "      <td>can0bis</td>\n",
       "      <td>0</td>\n",
       "      <td>0</td>\n",
       "      <td>0</td>\n",
       "      <td>0</td>\n",
       "      <td>1</td>\n",
       "      <td>0</td>\n",
       "      <td>0</td>\n",
       "      <td>0</td>\n",
       "      <td>0</td>\n",
       "    </tr>\n",
       "    <tr>\n",
       "      <td>91</td>\n",
       "      <td>career ma0gement</td>\n",
       "      <td>0</td>\n",
       "      <td>0</td>\n",
       "      <td>0</td>\n",
       "      <td>0</td>\n",
       "      <td>0</td>\n",
       "      <td>0</td>\n",
       "      <td>0</td>\n",
       "      <td>0</td>\n",
       "      <td>1</td>\n",
       "    </tr>\n",
       "    <tr>\n",
       "      <td>103</td>\n",
       "      <td>chi0 internet</td>\n",
       "      <td>0</td>\n",
       "      <td>0</td>\n",
       "      <td>0</td>\n",
       "      <td>0</td>\n",
       "      <td>0</td>\n",
       "      <td>0</td>\n",
       "      <td>1</td>\n",
       "      <td>0</td>\n",
       "      <td>0</td>\n",
       "    </tr>\n",
       "    <tr>\n",
       "      <td>114</td>\n",
       "      <td>cloud ma0gement</td>\n",
       "      <td>0</td>\n",
       "      <td>0</td>\n",
       "      <td>0</td>\n",
       "      <td>0</td>\n",
       "      <td>0</td>\n",
       "      <td>0</td>\n",
       "      <td>1</td>\n",
       "      <td>0</td>\n",
       "      <td>0</td>\n",
       "    </tr>\n",
       "    <tr>\n",
       "      <td>145</td>\n",
       "      <td>contact ma0gement</td>\n",
       "      <td>0</td>\n",
       "      <td>0</td>\n",
       "      <td>0</td>\n",
       "      <td>0</td>\n",
       "      <td>0</td>\n",
       "      <td>0</td>\n",
       "      <td>0</td>\n",
       "      <td>0</td>\n",
       "      <td>1</td>\n",
       "    </tr>\n",
       "    <tr>\n",
       "      <td>198</td>\n",
       "      <td>digital rights ma0gement</td>\n",
       "      <td>0</td>\n",
       "      <td>0</td>\n",
       "      <td>0</td>\n",
       "      <td>1</td>\n",
       "      <td>0</td>\n",
       "      <td>0</td>\n",
       "      <td>0</td>\n",
       "      <td>0</td>\n",
       "      <td>0</td>\n",
       "    </tr>\n",
       "    <tr>\n",
       "      <td>199</td>\n",
       "      <td>digital sig0ge</td>\n",
       "      <td>0</td>\n",
       "      <td>0</td>\n",
       "      <td>0</td>\n",
       "      <td>1</td>\n",
       "      <td>0</td>\n",
       "      <td>0</td>\n",
       "      <td>0</td>\n",
       "      <td>0</td>\n",
       "      <td>0</td>\n",
       "    </tr>\n",
       "    <tr>\n",
       "      <td>210</td>\n",
       "      <td>document ma0gement</td>\n",
       "      <td>0</td>\n",
       "      <td>0</td>\n",
       "      <td>0</td>\n",
       "      <td>0</td>\n",
       "      <td>0</td>\n",
       "      <td>0</td>\n",
       "      <td>0</td>\n",
       "      <td>1</td>\n",
       "      <td>0</td>\n",
       "    </tr>\n",
       "    <tr>\n",
       "      <td>223</td>\n",
       "      <td>educatio0l games</td>\n",
       "      <td>0</td>\n",
       "      <td>0</td>\n",
       "      <td>0</td>\n",
       "      <td>1</td>\n",
       "      <td>0</td>\n",
       "      <td>0</td>\n",
       "      <td>0</td>\n",
       "      <td>0</td>\n",
       "      <td>0</td>\n",
       "    </tr>\n",
       "    <tr>\n",
       "      <td>240</td>\n",
       "      <td>energy ma0gement</td>\n",
       "      <td>0</td>\n",
       "      <td>0</td>\n",
       "      <td>1</td>\n",
       "      <td>0</td>\n",
       "      <td>0</td>\n",
       "      <td>0</td>\n",
       "      <td>0</td>\n",
       "      <td>0</td>\n",
       "      <td>0</td>\n",
       "    </tr>\n",
       "    <tr>\n",
       "      <td>243</td>\n",
       "      <td>enterprise 2.0</td>\n",
       "      <td>0</td>\n",
       "      <td>0</td>\n",
       "      <td>0</td>\n",
       "      <td>0</td>\n",
       "      <td>0</td>\n",
       "      <td>0</td>\n",
       "      <td>0</td>\n",
       "      <td>1</td>\n",
       "      <td>0</td>\n",
       "    </tr>\n",
       "  </tbody>\n",
       "</table>\n",
       "</div>"
      ],
      "text/plain": [
       "                category_list  Automotive & Sports  Blanks  \\\n",
       "20        alter0tive medicine                    0       0   \n",
       "22                   a0lytics                    0       0   \n",
       "59          big data a0lytics                    0       0   \n",
       "79          business a0lytics                    0       0   \n",
       "89                    can0bis                    0       0   \n",
       "91           career ma0gement                    0       0   \n",
       "103             chi0 internet                    0       0   \n",
       "114           cloud ma0gement                    0       0   \n",
       "145         contact ma0gement                    0       0   \n",
       "198  digital rights ma0gement                    0       0   \n",
       "199            digital sig0ge                    0       0   \n",
       "210        document ma0gement                    0       0   \n",
       "223          educatio0l games                    0       0   \n",
       "240          energy ma0gement                    0       0   \n",
       "243            enterprise 2.0                    0       0   \n",
       "\n",
       "     Cleantech / Semiconductors  Entertainment  Health  Manufacturing  \\\n",
       "20                            0              0       1              0   \n",
       "22                            0              0       0              0   \n",
       "59                            0              0       0              0   \n",
       "79                            0              0       0              0   \n",
       "89                            0              0       1              0   \n",
       "91                            0              0       0              0   \n",
       "103                           0              0       0              0   \n",
       "114                           0              0       0              0   \n",
       "145                           0              0       0              0   \n",
       "198                           0              1       0              0   \n",
       "199                           0              1       0              0   \n",
       "210                           0              0       0              0   \n",
       "223                           0              1       0              0   \n",
       "240                           1              0       0              0   \n",
       "243                           0              0       0              0   \n",
       "\n",
       "     News, Search and Messaging  Others  \\\n",
       "20                            0       0   \n",
       "22                            0       0   \n",
       "59                            0       0   \n",
       "79                            0       0   \n",
       "89                            0       0   \n",
       "91                            0       0   \n",
       "103                           1       0   \n",
       "114                           1       0   \n",
       "145                           0       0   \n",
       "198                           0       0   \n",
       "199                           0       0   \n",
       "210                           0       1   \n",
       "223                           0       0   \n",
       "240                           0       0   \n",
       "243                           0       1   \n",
       "\n",
       "     Social, Finance, Analytics, Advertising  \n",
       "20                                         0  \n",
       "22                                         1  \n",
       "59                                         1  \n",
       "79                                         1  \n",
       "89                                         0  \n",
       "91                                         1  \n",
       "103                                        0  \n",
       "114                                        0  \n",
       "145                                        1  \n",
       "198                                        0  \n",
       "199                                        0  \n",
       "210                                        0  \n",
       "223                                        0  \n",
       "240                                        0  \n",
       "243                                        0  "
      ]
     },
     "execution_count": 933,
     "metadata": {},
     "output_type": "execute_result"
    }
   ],
   "source": [
    "mapping[mapping['category_list'].str.contains('0')].head(15)"
   ]
  },
  {
   "cell_type": "markdown",
   "metadata": {},
   "source": [
    "We will have to fix all this data to normal for which we will have to replace 0 with 'na' but see the last row of above data. There is a categiory of name enterprise 2.0 which will become enterprise 2.na. So, we will consider this scenario also while replacing the data."
   ]
  },
  {
   "cell_type": "code",
   "execution_count": 935,
   "metadata": {},
   "outputs": [],
   "source": [
    "mapping['category_list'] = mapping['category_list'].apply(lambda x: x.replace('0','na').replace('2.na', '2.0'))"
   ]
  },
  {
   "cell_type": "markdown",
   "metadata": {},
   "source": [
    "Now, again checking data which has 0. It only has enterprise 2.0 which is correct."
   ]
  },
  {
   "cell_type": "code",
   "execution_count": 936,
   "metadata": {},
   "outputs": [
    {
     "data": {
      "text/html": [
       "<div>\n",
       "<style scoped>\n",
       "    .dataframe tbody tr th:only-of-type {\n",
       "        vertical-align: middle;\n",
       "    }\n",
       "\n",
       "    .dataframe tbody tr th {\n",
       "        vertical-align: top;\n",
       "    }\n",
       "\n",
       "    .dataframe thead th {\n",
       "        text-align: right;\n",
       "    }\n",
       "</style>\n",
       "<table border=\"1\" class=\"dataframe\">\n",
       "  <thead>\n",
       "    <tr style=\"text-align: right;\">\n",
       "      <th></th>\n",
       "      <th>category_list</th>\n",
       "      <th>Automotive &amp; Sports</th>\n",
       "      <th>Blanks</th>\n",
       "      <th>Cleantech / Semiconductors</th>\n",
       "      <th>Entertainment</th>\n",
       "      <th>Health</th>\n",
       "      <th>Manufacturing</th>\n",
       "      <th>News, Search and Messaging</th>\n",
       "      <th>Others</th>\n",
       "      <th>Social, Finance, Analytics, Advertising</th>\n",
       "    </tr>\n",
       "  </thead>\n",
       "  <tbody>\n",
       "    <tr>\n",
       "      <td>243</td>\n",
       "      <td>enterprise 2.0</td>\n",
       "      <td>0</td>\n",
       "      <td>0</td>\n",
       "      <td>0</td>\n",
       "      <td>0</td>\n",
       "      <td>0</td>\n",
       "      <td>0</td>\n",
       "      <td>0</td>\n",
       "      <td>1</td>\n",
       "      <td>0</td>\n",
       "    </tr>\n",
       "  </tbody>\n",
       "</table>\n",
       "</div>"
      ],
      "text/plain": [
       "      category_list  Automotive & Sports  Blanks  Cleantech / Semiconductors  \\\n",
       "243  enterprise 2.0                    0       0                           0   \n",
       "\n",
       "     Entertainment  Health  Manufacturing  News, Search and Messaging  Others  \\\n",
       "243              0       0              0                           0       1   \n",
       "\n",
       "     Social, Finance, Analytics, Advertising  \n",
       "243                                        0  "
      ]
     },
     "execution_count": 936,
     "metadata": {},
     "output_type": "execute_result"
    }
   ],
   "source": [
    "mapping[mapping['category_list'].str.contains('0')]"
   ]
  },
  {
   "cell_type": "markdown",
   "metadata": {},
   "source": [
    "Now let's start preparing our master_frame for merger with mapping. So we make the primary sectory values to lower cases too for matching."
   ]
  },
  {
   "cell_type": "code",
   "execution_count": 939,
   "metadata": {},
   "outputs": [
    {
     "data": {
      "text/plain": [
       "0         media\n",
       "10    analytics\n",
       "11    analytics\n",
       "12    analytics\n",
       "22         apps\n",
       "Name: primary_sector, dtype: object"
      ]
     },
     "execution_count": 939,
     "metadata": {},
     "output_type": "execute_result"
    }
   ],
   "source": [
    "master_frame['primary_sector'] = master_frame['primary_sector'].str.lower()\n",
    "master_frame['primary_sector'].head()"
   ]
  },
  {
   "cell_type": "markdown",
   "metadata": {},
   "source": [
    "Before merging, let's see if there's still any category/sector which is present in master_frame but not present in mapping."
   ]
  },
  {
   "cell_type": "code",
   "execution_count": 940,
   "metadata": {},
   "outputs": [
    {
     "data": {
      "text/html": [
       "<div>\n",
       "<style scoped>\n",
       "    .dataframe tbody tr th:only-of-type {\n",
       "        vertical-align: middle;\n",
       "    }\n",
       "\n",
       "    .dataframe tbody tr th {\n",
       "        vertical-align: top;\n",
       "    }\n",
       "\n",
       "    .dataframe thead th {\n",
       "        text-align: right;\n",
       "    }\n",
       "</style>\n",
       "<table border=\"1\" class=\"dataframe\">\n",
       "  <thead>\n",
       "    <tr style=\"text-align: right;\">\n",
       "      <th></th>\n",
       "      <th>funding_round_permalink</th>\n",
       "      <th>funding_round_type</th>\n",
       "      <th>funded_at</th>\n",
       "      <th>raised_amount_usd</th>\n",
       "      <th>company_permalink_upper</th>\n",
       "      <th>name</th>\n",
       "      <th>category_list</th>\n",
       "      <th>status</th>\n",
       "      <th>country_code</th>\n",
       "      <th>primary_sector</th>\n",
       "    </tr>\n",
       "  </thead>\n",
       "  <tbody>\n",
       "    <tr>\n",
       "      <td>20328</td>\n",
       "      <td>/funding-round/7b991c526219c2edff8789942215d93b</td>\n",
       "      <td>venture</td>\n",
       "      <td>26-02-2010</td>\n",
       "      <td>125000.0</td>\n",
       "      <td>/ORGANIZATION/CLEAN-VEHICLE-SOLUTIONS</td>\n",
       "      <td>Clean Vehicle Solutions</td>\n",
       "      <td>Natural Gas Uses|Service Providers|Services</td>\n",
       "      <td>operating</td>\n",
       "      <td>USA</td>\n",
       "      <td>natural gas uses</td>\n",
       "    </tr>\n",
       "    <tr>\n",
       "      <td>28541</td>\n",
       "      <td>/funding-round/ba7393d89b2a5ad0c076e2295794c4ce</td>\n",
       "      <td>venture</td>\n",
       "      <td>07-04-2015</td>\n",
       "      <td>250000.0</td>\n",
       "      <td>/ORGANIZATION/DOLORES-SPEECH-PRODUCTS</td>\n",
       "      <td>Dolores Speech Products</td>\n",
       "      <td>Adaptive Equipment|Innovation Management|Speec...</td>\n",
       "      <td>operating</td>\n",
       "      <td>USA</td>\n",
       "      <td>adaptive equipment</td>\n",
       "    </tr>\n",
       "    <tr>\n",
       "      <td>35278</td>\n",
       "      <td>/funding-round/19a09624fcf806a4a64809462a4e391c</td>\n",
       "      <td>venture</td>\n",
       "      <td>15-05-2014</td>\n",
       "      <td>68569234.0</td>\n",
       "      <td>/ORGANIZATION/FIA-FORMULA-E</td>\n",
       "      <td>FIA Formula E</td>\n",
       "      <td>Racing</td>\n",
       "      <td>closed</td>\n",
       "      <td>GBR</td>\n",
       "      <td>racing</td>\n",
       "    </tr>\n",
       "    <tr>\n",
       "      <td>36012</td>\n",
       "      <td>/funding-round/2a50c59492585ea4080fa67de755a442</td>\n",
       "      <td>venture</td>\n",
       "      <td>14-10-2010</td>\n",
       "      <td>194000000.0</td>\n",
       "      <td>/ORGANIZATION/FIVE-BELOW</td>\n",
       "      <td>Five Below</td>\n",
       "      <td>Specialty Retail</td>\n",
       "      <td>ipo</td>\n",
       "      <td>USA</td>\n",
       "      <td>specialty retail</td>\n",
       "    </tr>\n",
       "    <tr>\n",
       "      <td>43506</td>\n",
       "      <td>/funding-round/8edf7332fface9972541807a248690b3</td>\n",
       "      <td>venture</td>\n",
       "      <td>13-06-2014</td>\n",
       "      <td>9486929.0</td>\n",
       "      <td>/ORGANIZATION/HEALTHTELL</td>\n",
       "      <td>HealthTell</td>\n",
       "      <td>Biotechnology and Semiconductor|Diagnostics|He...</td>\n",
       "      <td>operating</td>\n",
       "      <td>USA</td>\n",
       "      <td>biotechnology and semiconductor</td>\n",
       "    </tr>\n",
       "    <tr>\n",
       "      <td>51816</td>\n",
       "      <td>/funding-round/c6e9adcef86247dccf8418dc3e4b9a0b</td>\n",
       "      <td>venture</td>\n",
       "      <td>17-12-2007</td>\n",
       "      <td>862000.0</td>\n",
       "      <td>/ORGANIZATION/JUSTINMIND</td>\n",
       "      <td>Justinmind</td>\n",
       "      <td>Rapidly Expanding|Software|Usability|User Expe...</td>\n",
       "      <td>operating</td>\n",
       "      <td>USA</td>\n",
       "      <td>rapidly expanding</td>\n",
       "    </tr>\n",
       "    <tr>\n",
       "      <td>70078</td>\n",
       "      <td>/funding-round/4870743e3fded9317f5611eb2e848667</td>\n",
       "      <td>venture</td>\n",
       "      <td>14-05-2015</td>\n",
       "      <td>3172815.0</td>\n",
       "      <td>/ORGANIZATION/OMEGA-POINT-RESEARCH</td>\n",
       "      <td>Omega Point Research</td>\n",
       "      <td>Product Search</td>\n",
       "      <td>closed</td>\n",
       "      <td>USA</td>\n",
       "      <td>product search</td>\n",
       "    </tr>\n",
       "    <tr>\n",
       "      <td>87657</td>\n",
       "      <td>/funding-round/1ed09dae5b9feaba2ae7f56dd1b9bfd2</td>\n",
       "      <td>venture</td>\n",
       "      <td>29-12-2014</td>\n",
       "      <td>2499999.0</td>\n",
       "      <td>/ORGANIZATION/SENSE-LABS-INC-</td>\n",
       "      <td>Sense</td>\n",
       "      <td>GreenTech|Hardware|Home Automation|Internet of...</td>\n",
       "      <td>operating</td>\n",
       "      <td>USA</td>\n",
       "      <td>greentech</td>\n",
       "    </tr>\n",
       "    <tr>\n",
       "      <td>88384</td>\n",
       "      <td>/funding-round/96f7fa1fdcc380649723c8effc2a1062</td>\n",
       "      <td>venture</td>\n",
       "      <td>01-08-2008</td>\n",
       "      <td>1100000.0</td>\n",
       "      <td>/ORGANIZATION/SHANTINIKETAN-INCORPORATED</td>\n",
       "      <td>ShantiNiketan Inc.</td>\n",
       "      <td>Retirement</td>\n",
       "      <td>closed</td>\n",
       "      <td>USA</td>\n",
       "      <td>retirement</td>\n",
       "    </tr>\n",
       "    <tr>\n",
       "      <td>88385</td>\n",
       "      <td>/funding-round/c6baca436fa80360921d89a06a0a0e93</td>\n",
       "      <td>venture</td>\n",
       "      <td>01-05-2011</td>\n",
       "      <td>2000000.0</td>\n",
       "      <td>/ORGANIZATION/SHANTINIKETAN-INCORPORATED</td>\n",
       "      <td>ShantiNiketan Inc.</td>\n",
       "      <td>Retirement</td>\n",
       "      <td>closed</td>\n",
       "      <td>USA</td>\n",
       "      <td>retirement</td>\n",
       "    </tr>\n",
       "    <tr>\n",
       "      <td>106150</td>\n",
       "      <td>/funding-round/2cdceb89206aad240a78e58329cec171</td>\n",
       "      <td>venture</td>\n",
       "      <td>09-09-2011</td>\n",
       "      <td>1420000.0</td>\n",
       "      <td>/ORGANIZATION/VELOCOMP</td>\n",
       "      <td>Velocomp</td>\n",
       "      <td>Adaptive Equipment|Sporting Goods</td>\n",
       "      <td>operating</td>\n",
       "      <td>USA</td>\n",
       "      <td>adaptive equipment</td>\n",
       "    </tr>\n",
       "  </tbody>\n",
       "</table>\n",
       "</div>"
      ],
      "text/plain": [
       "                                funding_round_permalink funding_round_type  \\\n",
       "20328   /funding-round/7b991c526219c2edff8789942215d93b            venture   \n",
       "28541   /funding-round/ba7393d89b2a5ad0c076e2295794c4ce            venture   \n",
       "35278   /funding-round/19a09624fcf806a4a64809462a4e391c            venture   \n",
       "36012   /funding-round/2a50c59492585ea4080fa67de755a442            venture   \n",
       "43506   /funding-round/8edf7332fface9972541807a248690b3            venture   \n",
       "51816   /funding-round/c6e9adcef86247dccf8418dc3e4b9a0b            venture   \n",
       "70078   /funding-round/4870743e3fded9317f5611eb2e848667            venture   \n",
       "87657   /funding-round/1ed09dae5b9feaba2ae7f56dd1b9bfd2            venture   \n",
       "88384   /funding-round/96f7fa1fdcc380649723c8effc2a1062            venture   \n",
       "88385   /funding-round/c6baca436fa80360921d89a06a0a0e93            venture   \n",
       "106150  /funding-round/2cdceb89206aad240a78e58329cec171            venture   \n",
       "\n",
       "         funded_at  raised_amount_usd  \\\n",
       "20328   26-02-2010           125000.0   \n",
       "28541   07-04-2015           250000.0   \n",
       "35278   15-05-2014         68569234.0   \n",
       "36012   14-10-2010        194000000.0   \n",
       "43506   13-06-2014          9486929.0   \n",
       "51816   17-12-2007           862000.0   \n",
       "70078   14-05-2015          3172815.0   \n",
       "87657   29-12-2014          2499999.0   \n",
       "88384   01-08-2008          1100000.0   \n",
       "88385   01-05-2011          2000000.0   \n",
       "106150  09-09-2011          1420000.0   \n",
       "\n",
       "                         company_permalink_upper                     name  \\\n",
       "20328      /ORGANIZATION/CLEAN-VEHICLE-SOLUTIONS  Clean Vehicle Solutions   \n",
       "28541      /ORGANIZATION/DOLORES-SPEECH-PRODUCTS  Dolores Speech Products   \n",
       "35278                /ORGANIZATION/FIA-FORMULA-E            FIA Formula E   \n",
       "36012                   /ORGANIZATION/FIVE-BELOW               Five Below   \n",
       "43506                   /ORGANIZATION/HEALTHTELL               HealthTell   \n",
       "51816                   /ORGANIZATION/JUSTINMIND               Justinmind   \n",
       "70078         /ORGANIZATION/OMEGA-POINT-RESEARCH     Omega Point Research   \n",
       "87657              /ORGANIZATION/SENSE-LABS-INC-                    Sense   \n",
       "88384   /ORGANIZATION/SHANTINIKETAN-INCORPORATED       ShantiNiketan Inc.   \n",
       "88385   /ORGANIZATION/SHANTINIKETAN-INCORPORATED       ShantiNiketan Inc.   \n",
       "106150                    /ORGANIZATION/VELOCOMP                 Velocomp   \n",
       "\n",
       "                                            category_list     status  \\\n",
       "20328         Natural Gas Uses|Service Providers|Services  operating   \n",
       "28541   Adaptive Equipment|Innovation Management|Speec...  operating   \n",
       "35278                                              Racing     closed   \n",
       "36012                                    Specialty Retail        ipo   \n",
       "43506   Biotechnology and Semiconductor|Diagnostics|He...  operating   \n",
       "51816   Rapidly Expanding|Software|Usability|User Expe...  operating   \n",
       "70078                                      Product Search     closed   \n",
       "87657   GreenTech|Hardware|Home Automation|Internet of...  operating   \n",
       "88384                                          Retirement     closed   \n",
       "88385                                          Retirement     closed   \n",
       "106150                  Adaptive Equipment|Sporting Goods  operating   \n",
       "\n",
       "       country_code                   primary_sector  \n",
       "20328           USA                 natural gas uses  \n",
       "28541           USA               adaptive equipment  \n",
       "35278           GBR                           racing  \n",
       "36012           USA                 specialty retail  \n",
       "43506           USA  biotechnology and semiconductor  \n",
       "51816           USA                rapidly expanding  \n",
       "70078           USA                   product search  \n",
       "87657           USA                        greentech  \n",
       "88384           USA                       retirement  \n",
       "88385           USA                       retirement  \n",
       "106150          USA               adaptive equipment  "
      ]
     },
     "execution_count": 940,
     "metadata": {},
     "output_type": "execute_result"
    }
   ],
   "source": [
    "master_frame[~master_frame['primary_sector'].isin(mapping['category_list'])]"
   ]
  },
  {
   "cell_type": "markdown",
   "metadata": {},
   "source": [
    "Some primary sectors are not present in mapping file which can only ignore. Let's merge both the dataframes now. Also dropping master_frame's category list because we don't need it anymore and it will create a problem during merge."
   ]
  },
  {
   "cell_type": "code",
   "execution_count": null,
   "metadata": {},
   "outputs": [],
   "source": [
    "master_frame = master_frame.drop('category_list', axis=1)"
   ]
  },
  {
   "cell_type": "code",
   "execution_count": 943,
   "metadata": {},
   "outputs": [],
   "source": [
    "master_mapping = master_frame.merge(mapping, left_on='primary_sector', right_on='category_list', how='inner')"
   ]
  },
  {
   "cell_type": "code",
   "execution_count": 944,
   "metadata": {},
   "outputs": [
    {
     "data": {
      "text/html": [
       "<div>\n",
       "<style scoped>\n",
       "    .dataframe tbody tr th:only-of-type {\n",
       "        vertical-align: middle;\n",
       "    }\n",
       "\n",
       "    .dataframe tbody tr th {\n",
       "        vertical-align: top;\n",
       "    }\n",
       "\n",
       "    .dataframe thead th {\n",
       "        text-align: right;\n",
       "    }\n",
       "</style>\n",
       "<table border=\"1\" class=\"dataframe\">\n",
       "  <thead>\n",
       "    <tr style=\"text-align: right;\">\n",
       "      <th></th>\n",
       "      <th>funding_round_permalink</th>\n",
       "      <th>funding_round_type</th>\n",
       "      <th>funded_at</th>\n",
       "      <th>raised_amount_usd</th>\n",
       "      <th>company_permalink_upper</th>\n",
       "      <th>name</th>\n",
       "      <th>status</th>\n",
       "      <th>country_code</th>\n",
       "      <th>primary_sector</th>\n",
       "      <th>category_list</th>\n",
       "      <th>Automotive &amp; Sports</th>\n",
       "      <th>Blanks</th>\n",
       "      <th>Cleantech / Semiconductors</th>\n",
       "      <th>Entertainment</th>\n",
       "      <th>Health</th>\n",
       "      <th>Manufacturing</th>\n",
       "      <th>News, Search and Messaging</th>\n",
       "      <th>Others</th>\n",
       "      <th>Social, Finance, Analytics, Advertising</th>\n",
       "    </tr>\n",
       "  </thead>\n",
       "  <tbody>\n",
       "    <tr>\n",
       "      <td>0</td>\n",
       "      <td>/funding-round/9a01d05418af9f794eebff7ace91f638</td>\n",
       "      <td>venture</td>\n",
       "      <td>05-01-2015</td>\n",
       "      <td>10000000.0</td>\n",
       "      <td>/ORGANIZATION/-FAME</td>\n",
       "      <td>#fame</td>\n",
       "      <td>operating</td>\n",
       "      <td>IND</td>\n",
       "      <td>media</td>\n",
       "      <td>media</td>\n",
       "      <td>0</td>\n",
       "      <td>0</td>\n",
       "      <td>0</td>\n",
       "      <td>1</td>\n",
       "      <td>0</td>\n",
       "      <td>0</td>\n",
       "      <td>0</td>\n",
       "      <td>0</td>\n",
       "      <td>0</td>\n",
       "    </tr>\n",
       "    <tr>\n",
       "      <td>1</td>\n",
       "      <td>/funding-round/21a2cbf6f2fb2a1c2a61e04bf930dfe6</td>\n",
       "      <td>venture</td>\n",
       "      <td>06-10-2015</td>\n",
       "      <td>15000000.0</td>\n",
       "      <td>/ORGANIZATION/90MIN</td>\n",
       "      <td>90min</td>\n",
       "      <td>operating</td>\n",
       "      <td>GBR</td>\n",
       "      <td>media</td>\n",
       "      <td>media</td>\n",
       "      <td>0</td>\n",
       "      <td>0</td>\n",
       "      <td>0</td>\n",
       "      <td>1</td>\n",
       "      <td>0</td>\n",
       "      <td>0</td>\n",
       "      <td>0</td>\n",
       "      <td>0</td>\n",
       "      <td>0</td>\n",
       "    </tr>\n",
       "    <tr>\n",
       "      <td>2</td>\n",
       "      <td>/funding-round/bd626ed022f5c66574b1afe234f3c90d</td>\n",
       "      <td>venture</td>\n",
       "      <td>07-05-2013</td>\n",
       "      <td>5800000.0</td>\n",
       "      <td>/ORGANIZATION/90MIN</td>\n",
       "      <td>90min</td>\n",
       "      <td>operating</td>\n",
       "      <td>GBR</td>\n",
       "      <td>media</td>\n",
       "      <td>media</td>\n",
       "      <td>0</td>\n",
       "      <td>0</td>\n",
       "      <td>0</td>\n",
       "      <td>1</td>\n",
       "      <td>0</td>\n",
       "      <td>0</td>\n",
       "      <td>0</td>\n",
       "      <td>0</td>\n",
       "      <td>0</td>\n",
       "    </tr>\n",
       "    <tr>\n",
       "      <td>3</td>\n",
       "      <td>/funding-round/fd4b15e8c97ee2ffc0acccdbe1a98810</td>\n",
       "      <td>venture</td>\n",
       "      <td>26-03-2014</td>\n",
       "      <td>18000000.0</td>\n",
       "      <td>/ORGANIZATION/90MIN</td>\n",
       "      <td>90min</td>\n",
       "      <td>operating</td>\n",
       "      <td>GBR</td>\n",
       "      <td>media</td>\n",
       "      <td>media</td>\n",
       "      <td>0</td>\n",
       "      <td>0</td>\n",
       "      <td>0</td>\n",
       "      <td>1</td>\n",
       "      <td>0</td>\n",
       "      <td>0</td>\n",
       "      <td>0</td>\n",
       "      <td>0</td>\n",
       "      <td>0</td>\n",
       "    </tr>\n",
       "    <tr>\n",
       "      <td>4</td>\n",
       "      <td>/funding-round/452a2342fe720285c3b92e9bd927d9ba</td>\n",
       "      <td>venture</td>\n",
       "      <td>06-08-2014</td>\n",
       "      <td>5000000.0</td>\n",
       "      <td>/ORGANIZATION/ALL-DEF-DIGITAL</td>\n",
       "      <td>All Def Digital</td>\n",
       "      <td>operating</td>\n",
       "      <td>USA</td>\n",
       "      <td>media</td>\n",
       "      <td>media</td>\n",
       "      <td>0</td>\n",
       "      <td>0</td>\n",
       "      <td>0</td>\n",
       "      <td>1</td>\n",
       "      <td>0</td>\n",
       "      <td>0</td>\n",
       "      <td>0</td>\n",
       "      <td>0</td>\n",
       "      <td>0</td>\n",
       "    </tr>\n",
       "  </tbody>\n",
       "</table>\n",
       "</div>"
      ],
      "text/plain": [
       "                           funding_round_permalink funding_round_type  \\\n",
       "0  /funding-round/9a01d05418af9f794eebff7ace91f638            venture   \n",
       "1  /funding-round/21a2cbf6f2fb2a1c2a61e04bf930dfe6            venture   \n",
       "2  /funding-round/bd626ed022f5c66574b1afe234f3c90d            venture   \n",
       "3  /funding-round/fd4b15e8c97ee2ffc0acccdbe1a98810            venture   \n",
       "4  /funding-round/452a2342fe720285c3b92e9bd927d9ba            venture   \n",
       "\n",
       "    funded_at  raised_amount_usd        company_permalink_upper  \\\n",
       "0  05-01-2015         10000000.0            /ORGANIZATION/-FAME   \n",
       "1  06-10-2015         15000000.0            /ORGANIZATION/90MIN   \n",
       "2  07-05-2013          5800000.0            /ORGANIZATION/90MIN   \n",
       "3  26-03-2014         18000000.0            /ORGANIZATION/90MIN   \n",
       "4  06-08-2014          5000000.0  /ORGANIZATION/ALL-DEF-DIGITAL   \n",
       "\n",
       "              name     status country_code primary_sector category_list  \\\n",
       "0            #fame  operating          IND          media         media   \n",
       "1            90min  operating          GBR          media         media   \n",
       "2            90min  operating          GBR          media         media   \n",
       "3            90min  operating          GBR          media         media   \n",
       "4  All Def Digital  operating          USA          media         media   \n",
       "\n",
       "   Automotive & Sports  Blanks  Cleantech / Semiconductors  Entertainment  \\\n",
       "0                    0       0                           0              1   \n",
       "1                    0       0                           0              1   \n",
       "2                    0       0                           0              1   \n",
       "3                    0       0                           0              1   \n",
       "4                    0       0                           0              1   \n",
       "\n",
       "   Health  Manufacturing  News, Search and Messaging  Others  \\\n",
       "0       0              0                           0       0   \n",
       "1       0              0                           0       0   \n",
       "2       0              0                           0       0   \n",
       "3       0              0                           0       0   \n",
       "4       0              0                           0       0   \n",
       "\n",
       "   Social, Finance, Analytics, Advertising  \n",
       "0                                        0  \n",
       "1                                        0  \n",
       "2                                        0  \n",
       "3                                        0  \n",
       "4                                        0  "
      ]
     },
     "execution_count": 944,
     "metadata": {},
     "output_type": "execute_result"
    }
   ],
   "source": [
    "master_mapping.head()"
   ]
  },
  {
   "cell_type": "markdown",
   "metadata": {},
   "source": [
    "Now we have to somehow convert the columns of 8 main sectors into values in rows. After some searching, I have found that a method called 'melt' which will do the task. The melt function takes an attribute called id_vars which colums we will not 'melt' and value_vars to specify the columns which are to be melted. So in our case, we want to keep master_frame columns and want to melt 8 main sectors into data rows. The var_name attribute is to specify the name of the new melted column. "
   ]
  },
  {
   "cell_type": "code",
   "execution_count": 945,
   "metadata": {},
   "outputs": [
    {
     "data": {
      "text/plain": [
       "Index(['Automotive & Sports', 'Blanks', 'Cleantech / Semiconductors',\n",
       "       'Entertainment', 'Health', 'Manufacturing',\n",
       "       'News, Search and Messaging', 'Others',\n",
       "       'Social, Finance, Analytics, Advertising'],\n",
       "      dtype='object')"
      ]
     },
     "execution_count": 945,
     "metadata": {},
     "output_type": "execute_result"
    }
   ],
   "source": [
    "mapping.columns[1:]"
   ]
  },
  {
   "cell_type": "code",
   "execution_count": 946,
   "metadata": {},
   "outputs": [
    {
     "data": {
      "text/plain": [
       "Index(['funding_round_permalink', 'funding_round_type', 'funded_at',\n",
       "       'raised_amount_usd', 'company_permalink_upper', 'name', 'status',\n",
       "       'country_code', 'primary_sector'],\n",
       "      dtype='object')"
      ]
     },
     "execution_count": 946,
     "metadata": {},
     "output_type": "execute_result"
    }
   ],
   "source": [
    "master_frame.columns"
   ]
  },
  {
   "cell_type": "code",
   "execution_count": null,
   "metadata": {},
   "outputs": [],
   "source": [
    "master_mapping = pd.melt(master_mapping, id_vars=list(master_frame.columns), value_vars=list(mapping.columns[1:]),\n",
    "        var_name=\"main_sector\")"
   ]
  },
  {
   "cell_type": "code",
   "execution_count": 949,
   "metadata": {},
   "outputs": [
    {
     "data": {
      "text/html": [
       "<div>\n",
       "<style scoped>\n",
       "    .dataframe tbody tr th:only-of-type {\n",
       "        vertical-align: middle;\n",
       "    }\n",
       "\n",
       "    .dataframe tbody tr th {\n",
       "        vertical-align: top;\n",
       "    }\n",
       "\n",
       "    .dataframe thead th {\n",
       "        text-align: right;\n",
       "    }\n",
       "</style>\n",
       "<table border=\"1\" class=\"dataframe\">\n",
       "  <thead>\n",
       "    <tr style=\"text-align: right;\">\n",
       "      <th></th>\n",
       "      <th>funding_round_permalink</th>\n",
       "      <th>funding_round_type</th>\n",
       "      <th>funded_at</th>\n",
       "      <th>raised_amount_usd</th>\n",
       "      <th>company_permalink_upper</th>\n",
       "      <th>name</th>\n",
       "      <th>status</th>\n",
       "      <th>country_code</th>\n",
       "      <th>primary_sector</th>\n",
       "      <th>main_sector</th>\n",
       "      <th>value</th>\n",
       "    </tr>\n",
       "  </thead>\n",
       "  <tbody>\n",
       "    <tr>\n",
       "      <td>0</td>\n",
       "      <td>/funding-round/9a01d05418af9f794eebff7ace91f638</td>\n",
       "      <td>venture</td>\n",
       "      <td>05-01-2015</td>\n",
       "      <td>10000000.0</td>\n",
       "      <td>/ORGANIZATION/-FAME</td>\n",
       "      <td>#fame</td>\n",
       "      <td>operating</td>\n",
       "      <td>IND</td>\n",
       "      <td>media</td>\n",
       "      <td>Automotive &amp; Sports</td>\n",
       "      <td>0</td>\n",
       "    </tr>\n",
       "    <tr>\n",
       "      <td>1</td>\n",
       "      <td>/funding-round/21a2cbf6f2fb2a1c2a61e04bf930dfe6</td>\n",
       "      <td>venture</td>\n",
       "      <td>06-10-2015</td>\n",
       "      <td>15000000.0</td>\n",
       "      <td>/ORGANIZATION/90MIN</td>\n",
       "      <td>90min</td>\n",
       "      <td>operating</td>\n",
       "      <td>GBR</td>\n",
       "      <td>media</td>\n",
       "      <td>Automotive &amp; Sports</td>\n",
       "      <td>0</td>\n",
       "    </tr>\n",
       "    <tr>\n",
       "      <td>2</td>\n",
       "      <td>/funding-round/bd626ed022f5c66574b1afe234f3c90d</td>\n",
       "      <td>venture</td>\n",
       "      <td>07-05-2013</td>\n",
       "      <td>5800000.0</td>\n",
       "      <td>/ORGANIZATION/90MIN</td>\n",
       "      <td>90min</td>\n",
       "      <td>operating</td>\n",
       "      <td>GBR</td>\n",
       "      <td>media</td>\n",
       "      <td>Automotive &amp; Sports</td>\n",
       "      <td>0</td>\n",
       "    </tr>\n",
       "    <tr>\n",
       "      <td>3</td>\n",
       "      <td>/funding-round/fd4b15e8c97ee2ffc0acccdbe1a98810</td>\n",
       "      <td>venture</td>\n",
       "      <td>26-03-2014</td>\n",
       "      <td>18000000.0</td>\n",
       "      <td>/ORGANIZATION/90MIN</td>\n",
       "      <td>90min</td>\n",
       "      <td>operating</td>\n",
       "      <td>GBR</td>\n",
       "      <td>media</td>\n",
       "      <td>Automotive &amp; Sports</td>\n",
       "      <td>0</td>\n",
       "    </tr>\n",
       "    <tr>\n",
       "      <td>4</td>\n",
       "      <td>/funding-round/452a2342fe720285c3b92e9bd927d9ba</td>\n",
       "      <td>venture</td>\n",
       "      <td>06-08-2014</td>\n",
       "      <td>5000000.0</td>\n",
       "      <td>/ORGANIZATION/ALL-DEF-DIGITAL</td>\n",
       "      <td>All Def Digital</td>\n",
       "      <td>operating</td>\n",
       "      <td>USA</td>\n",
       "      <td>media</td>\n",
       "      <td>Automotive &amp; Sports</td>\n",
       "      <td>0</td>\n",
       "    </tr>\n",
       "  </tbody>\n",
       "</table>\n",
       "</div>"
      ],
      "text/plain": [
       "                           funding_round_permalink funding_round_type  \\\n",
       "0  /funding-round/9a01d05418af9f794eebff7ace91f638            venture   \n",
       "1  /funding-round/21a2cbf6f2fb2a1c2a61e04bf930dfe6            venture   \n",
       "2  /funding-round/bd626ed022f5c66574b1afe234f3c90d            venture   \n",
       "3  /funding-round/fd4b15e8c97ee2ffc0acccdbe1a98810            venture   \n",
       "4  /funding-round/452a2342fe720285c3b92e9bd927d9ba            venture   \n",
       "\n",
       "    funded_at  raised_amount_usd        company_permalink_upper  \\\n",
       "0  05-01-2015         10000000.0            /ORGANIZATION/-FAME   \n",
       "1  06-10-2015         15000000.0            /ORGANIZATION/90MIN   \n",
       "2  07-05-2013          5800000.0            /ORGANIZATION/90MIN   \n",
       "3  26-03-2014         18000000.0            /ORGANIZATION/90MIN   \n",
       "4  06-08-2014          5000000.0  /ORGANIZATION/ALL-DEF-DIGITAL   \n",
       "\n",
       "              name     status country_code primary_sector  \\\n",
       "0            #fame  operating          IND          media   \n",
       "1            90min  operating          GBR          media   \n",
       "2            90min  operating          GBR          media   \n",
       "3            90min  operating          GBR          media   \n",
       "4  All Def Digital  operating          USA          media   \n",
       "\n",
       "           main_sector  value  \n",
       "0  Automotive & Sports      0  \n",
       "1  Automotive & Sports      0  \n",
       "2  Automotive & Sports      0  \n",
       "3  Automotive & Sports      0  \n",
       "4  Automotive & Sports      0  "
      ]
     },
     "execution_count": 949,
     "metadata": {},
     "output_type": "execute_result"
    }
   ],
   "source": [
    "master_mapping.head()"
   ]
  },
  {
   "cell_type": "markdown",
   "metadata": {},
   "source": [
    "We only need rows with value 1 so we will filter the data based on this condition and then delete the value column."
   ]
  },
  {
   "cell_type": "code",
   "execution_count": 950,
   "metadata": {},
   "outputs": [],
   "source": [
    "master_mapping = master_mapping[master_mapping['value']==1]\n",
    "master_mapping = master_mapping.drop('value', axis=1)"
   ]
  },
  {
   "cell_type": "code",
   "execution_count": 951,
   "metadata": {},
   "outputs": [
    {
     "data": {
      "text/plain": [
       "8"
      ]
     },
     "execution_count": 951,
     "metadata": {},
     "output_type": "execute_result"
    }
   ],
   "source": [
    "len(master_mapping.main_sector.unique())"
   ]
  },
  {
   "cell_type": "markdown",
   "metadata": {},
   "source": [
    "This marks the end of checkpoint 4 as we have the merged dataframe master_mapping."
   ]
  },
  {
   "cell_type": "code",
   "execution_count": 952,
   "metadata": {},
   "outputs": [
    {
     "data": {
      "text/html": [
       "<div>\n",
       "<style scoped>\n",
       "    .dataframe tbody tr th:only-of-type {\n",
       "        vertical-align: middle;\n",
       "    }\n",
       "\n",
       "    .dataframe tbody tr th {\n",
       "        vertical-align: top;\n",
       "    }\n",
       "\n",
       "    .dataframe thead th {\n",
       "        text-align: right;\n",
       "    }\n",
       "</style>\n",
       "<table border=\"1\" class=\"dataframe\">\n",
       "  <thead>\n",
       "    <tr style=\"text-align: right;\">\n",
       "      <th></th>\n",
       "      <th>funding_round_permalink</th>\n",
       "      <th>funding_round_type</th>\n",
       "      <th>funded_at</th>\n",
       "      <th>raised_amount_usd</th>\n",
       "      <th>company_permalink_upper</th>\n",
       "      <th>name</th>\n",
       "      <th>status</th>\n",
       "      <th>country_code</th>\n",
       "      <th>primary_sector</th>\n",
       "      <th>main_sector</th>\n",
       "    </tr>\n",
       "  </thead>\n",
       "  <tbody>\n",
       "    <tr>\n",
       "      <td>25828</td>\n",
       "      <td>/funding-round/2785595770e91ab8fd4854ef125ec563</td>\n",
       "      <td>venture</td>\n",
       "      <td>05-11-2012</td>\n",
       "      <td>5000000.0</td>\n",
       "      <td>/ORGANIZATION/3D-ROBOTICS</td>\n",
       "      <td>3D Robotics</td>\n",
       "      <td>operating</td>\n",
       "      <td>USA</td>\n",
       "      <td>drones</td>\n",
       "      <td>Automotive &amp; Sports</td>\n",
       "    </tr>\n",
       "    <tr>\n",
       "      <td>25829</td>\n",
       "      <td>/funding-round/7ca0d4dc119b6d65eebfb352c3544542</td>\n",
       "      <td>venture</td>\n",
       "      <td>23-04-2015</td>\n",
       "      <td>14000000.0</td>\n",
       "      <td>/ORGANIZATION/3D-ROBOTICS</td>\n",
       "      <td>3D Robotics</td>\n",
       "      <td>operating</td>\n",
       "      <td>USA</td>\n",
       "      <td>drones</td>\n",
       "      <td>Automotive &amp; Sports</td>\n",
       "    </tr>\n",
       "    <tr>\n",
       "      <td>25830</td>\n",
       "      <td>/funding-round/d6221c11246b0a536ee2cadd9fcf54d3</td>\n",
       "      <td>venture</td>\n",
       "      <td>12-09-2013</td>\n",
       "      <td>30000000.0</td>\n",
       "      <td>/ORGANIZATION/3D-ROBOTICS</td>\n",
       "      <td>3D Robotics</td>\n",
       "      <td>operating</td>\n",
       "      <td>USA</td>\n",
       "      <td>drones</td>\n",
       "      <td>Automotive &amp; Sports</td>\n",
       "    </tr>\n",
       "    <tr>\n",
       "      <td>25831</td>\n",
       "      <td>/funding-round/ff3c1d1ae1c3486d775095b093d99b58</td>\n",
       "      <td>venture</td>\n",
       "      <td>25-02-2015</td>\n",
       "      <td>50000000.0</td>\n",
       "      <td>/ORGANIZATION/3D-ROBOTICS</td>\n",
       "      <td>3D Robotics</td>\n",
       "      <td>operating</td>\n",
       "      <td>USA</td>\n",
       "      <td>drones</td>\n",
       "      <td>Automotive &amp; Sports</td>\n",
       "    </tr>\n",
       "    <tr>\n",
       "      <td>25832</td>\n",
       "      <td>/funding-round/156e4fbce54aca39a8be9a1a2fa1fb77</td>\n",
       "      <td>venture</td>\n",
       "      <td>13-10-2015</td>\n",
       "      <td>10000000.0</td>\n",
       "      <td>/ORGANIZATION/CAPE-PRODUCTIONS</td>\n",
       "      <td>Cape Productions</td>\n",
       "      <td>operating</td>\n",
       "      <td>USA</td>\n",
       "      <td>drones</td>\n",
       "      <td>Automotive &amp; Sports</td>\n",
       "    </tr>\n",
       "  </tbody>\n",
       "</table>\n",
       "</div>"
      ],
      "text/plain": [
       "                               funding_round_permalink funding_round_type  \\\n",
       "25828  /funding-round/2785595770e91ab8fd4854ef125ec563            venture   \n",
       "25829  /funding-round/7ca0d4dc119b6d65eebfb352c3544542            venture   \n",
       "25830  /funding-round/d6221c11246b0a536ee2cadd9fcf54d3            venture   \n",
       "25831  /funding-round/ff3c1d1ae1c3486d775095b093d99b58            venture   \n",
       "25832  /funding-round/156e4fbce54aca39a8be9a1a2fa1fb77            venture   \n",
       "\n",
       "        funded_at  raised_amount_usd         company_permalink_upper  \\\n",
       "25828  05-11-2012          5000000.0       /ORGANIZATION/3D-ROBOTICS   \n",
       "25829  23-04-2015         14000000.0       /ORGANIZATION/3D-ROBOTICS   \n",
       "25830  12-09-2013         30000000.0       /ORGANIZATION/3D-ROBOTICS   \n",
       "25831  25-02-2015         50000000.0       /ORGANIZATION/3D-ROBOTICS   \n",
       "25832  13-10-2015         10000000.0  /ORGANIZATION/CAPE-PRODUCTIONS   \n",
       "\n",
       "                   name     status country_code primary_sector  \\\n",
       "25828       3D Robotics  operating          USA         drones   \n",
       "25829       3D Robotics  operating          USA         drones   \n",
       "25830       3D Robotics  operating          USA         drones   \n",
       "25831       3D Robotics  operating          USA         drones   \n",
       "25832  Cape Productions  operating          USA         drones   \n",
       "\n",
       "               main_sector  \n",
       "25828  Automotive & Sports  \n",
       "25829  Automotive & Sports  \n",
       "25830  Automotive & Sports  \n",
       "25831  Automotive & Sports  \n",
       "25832  Automotive & Sports  "
      ]
     },
     "execution_count": 952,
     "metadata": {},
     "output_type": "execute_result"
    }
   ],
   "source": [
    "master_mapping.head()"
   ]
  },
  {
   "cell_type": "markdown",
   "metadata": {},
   "source": [
    "<b>5. Checkpoint 5:- <br>\n",
    "    Sector-wise Investment Analysis <b>\n",
    "    "
   ]
  },
  {
   "cell_type": "markdown",
   "metadata": {},
   "source": [
    "As per the instructions, Spark Funds prefers funding in the range of 5million to 15 million USD. Also, creating new countrywise dataframes D1, D2, D3 and adding 2 new columns for total number (or count) of investments for each main sector and total amount invested in each main sector, sectorwise_investment_count and sectorwise_total_investments respectively."
   ]
  },
  {
   "cell_type": "code",
   "execution_count": 953,
   "metadata": {},
   "outputs": [],
   "source": [
    "master_mapping = master_mapping[(master_mapping['raised_amount_usd']>=5000000.0) & (master_mapping['raised_amount_usd']<=15000000.0)]"
   ]
  },
  {
   "cell_type": "code",
   "execution_count": 954,
   "metadata": {},
   "outputs": [],
   "source": [
    "D1 = master_mapping[master_mapping['country_code']=='USA']"
   ]
  },
  {
   "cell_type": "code",
   "execution_count": 955,
   "metadata": {},
   "outputs": [],
   "source": [
    "D2 = master_mapping[master_mapping['country_code']=='GBR']"
   ]
  },
  {
   "cell_type": "code",
   "execution_count": 956,
   "metadata": {},
   "outputs": [],
   "source": [
    "D3 = master_mapping[master_mapping['country_code']=='IND']"
   ]
  },
  {
   "cell_type": "markdown",
   "metadata": {},
   "source": [
    "Ok for these 2 new columns, the idea is to first fill the rows with main sectors and then replace each sector with its corresponding value for count and sum for total number and amount of investments. So, the algorithm followed here is :-\n",
    "1. Save corresponding main sector values in both of these 2 new columns \n",
    "2. Saving counts and total amount of investments for each sector in new dataframes each for each country. So for D1 (USA), the dataframes are sectorwise_count_D1 and sectorwise_investment_sum_D1\n",
    "3. Replacing(string replacement) each main sector value in sectorwise_investment_count and sectorwise_total_investments with the corresponding count and sum values from dataframes created in step 2.\n",
    "4. Convert back the string values to int64 and float64."
   ]
  },
  {
   "cell_type": "code",
   "execution_count": 962,
   "metadata": {},
   "outputs": [],
   "source": [
    "def new_column_creation_for_each_country():\n",
    "    #Step1\n",
    "    D1.loc[:, 'sectorwise_investment_count'] = D1.loc[:,'main_sector']\n",
    "    D1.loc[:, 'sectorwise_total_investments'] = D1.loc[:,'main_sector']\n",
    "    D2.loc[:, 'sectorwise_investment_count'] = D2.loc[:,'main_sector']\n",
    "    D2.loc[:, 'sectorwise_total_investments'] = D2.loc[:,'main_sector']\n",
    "    D3.loc[:, 'sectorwise_investment_count'] = D3.loc[:,'main_sector']\n",
    "    D3.loc[:, 'sectorwise_total_investments'] = D3.loc[:,'main_sector']\n",
    "    #Step2\n",
    "    sectorwise_count_D1 = D1.groupby('main_sector').count()['raised_amount_usd']\n",
    "    sectorwise_investment_sum_D1 = D1.groupby('main_sector').sum()['raised_amount_usd']\n",
    "    sectorwise_count_D2 = D2.groupby('main_sector').count()['raised_amount_usd']\n",
    "    sectorwise_investment_sum_D2 = D2.groupby('main_sector').sum()['raised_amount_usd']\n",
    "    sectorwise_count_D3 = D3.groupby('main_sector').count()['raised_amount_usd']\n",
    "    sectorwise_investment_sum_D3 = D3.groupby('main_sector').sum()['raised_amount_usd']\n",
    "    #Step3\n",
    "    D1['sectorwise_investment_count'] = D1['sectorwise_investment_count'].apply(lambda x : x.replace(x, str(sectorwise_count_D1[x]) ))\n",
    "    D1['sectorwise_total_investments'] = D1['sectorwise_total_investments'].apply(lambda x : x.replace(x, str(sectorwise_investment_sum_D1[x]) ))\n",
    "    D2['sectorwise_investment_count'] = D2['sectorwise_investment_count'].apply(lambda x : x.replace(x, str(sectorwise_count_D2[x]) ))\n",
    "    D2['sectorwise_total_investments'] = D2['sectorwise_total_investments'].apply(lambda x : x.replace(x, str(sectorwise_investment_sum_D2[x]) ))\n",
    "    D3['sectorwise_investment_count'] = D3['sectorwise_investment_count'].apply(lambda x : x.replace(x, str(sectorwise_count_D3[x]) ))\n",
    "    D3['sectorwise_total_investments'] = D3['sectorwise_total_investments'].apply(lambda x : x.replace(x, str(sectorwise_investment_sum_D3[x]) ))\n",
    "    #Step4\n",
    "    D1['sectorwise_investment_count'] = D1['sectorwise_investment_count'].astype('int64')\n",
    "    D1['sectorwise_total_investments'] = D1['sectorwise_total_investments'].astype('float64')\n",
    "    D2['sectorwise_investment_count'] = D2['sectorwise_investment_count'].astype('int64')\n",
    "    D2['sectorwise_total_investments'] = D2['sectorwise_total_investments'].astype('float64')\n",
    "    D3['sectorwise_investment_count'] = D3['sectorwise_investment_count'].astype('int64')\n",
    "    D3['sectorwise_total_investments'] = D3['sectorwise_total_investments'].astype('float64')"
   ]
  },
  {
   "cell_type": "code",
   "execution_count": 963,
   "metadata": {},
   "outputs": [],
   "source": [
    "new_column_creation_for_each_country()"
   ]
  },
  {
   "cell_type": "code",
   "execution_count": 965,
   "metadata": {},
   "outputs": [
    {
     "data": {
      "text/html": [
       "<div>\n",
       "<style scoped>\n",
       "    .dataframe tbody tr th:only-of-type {\n",
       "        vertical-align: middle;\n",
       "    }\n",
       "\n",
       "    .dataframe tbody tr th {\n",
       "        vertical-align: top;\n",
       "    }\n",
       "\n",
       "    .dataframe thead th {\n",
       "        text-align: right;\n",
       "    }\n",
       "</style>\n",
       "<table border=\"1\" class=\"dataframe\">\n",
       "  <thead>\n",
       "    <tr style=\"text-align: right;\">\n",
       "      <th></th>\n",
       "      <th>funding_round_permalink</th>\n",
       "      <th>funding_round_type</th>\n",
       "      <th>funded_at</th>\n",
       "      <th>raised_amount_usd</th>\n",
       "      <th>company_permalink_upper</th>\n",
       "      <th>name</th>\n",
       "      <th>status</th>\n",
       "      <th>country_code</th>\n",
       "      <th>primary_sector</th>\n",
       "      <th>main_sector</th>\n",
       "      <th>sectorwise_investment_count</th>\n",
       "      <th>sectorwise_total_investments</th>\n",
       "    </tr>\n",
       "  </thead>\n",
       "  <tbody>\n",
       "    <tr>\n",
       "      <td>27347</td>\n",
       "      <td>/funding-round/1e2b54335e2a41d8d7db25b7c11db399</td>\n",
       "      <td>venture</td>\n",
       "      <td>10-04-2012</td>\n",
       "      <td>5000000.0</td>\n",
       "      <td>/ORGANIZATION/ANI-TECHNOLOGIES</td>\n",
       "      <td>Ola</td>\n",
       "      <td>operating</td>\n",
       "      <td>IND</td>\n",
       "      <td>automotive</td>\n",
       "      <td>Automotive &amp; Sports</td>\n",
       "      <td>13</td>\n",
       "      <td>136900000.0</td>\n",
       "    </tr>\n",
       "    <tr>\n",
       "      <td>27359</td>\n",
       "      <td>/funding-round/a3782f52b69e60629bcf7866ca8b1eca</td>\n",
       "      <td>venture</td>\n",
       "      <td>29-05-2015</td>\n",
       "      <td>12000000.0</td>\n",
       "      <td>/ORGANIZATION/ATHER-ENERGY</td>\n",
       "      <td>Ather Energy</td>\n",
       "      <td>operating</td>\n",
       "      <td>IND</td>\n",
       "      <td>automotive</td>\n",
       "      <td>Automotive &amp; Sports</td>\n",
       "      <td>13</td>\n",
       "      <td>136900000.0</td>\n",
       "    </tr>\n",
       "    <tr>\n",
       "      <td>27389</td>\n",
       "      <td>/funding-round/3875ae874b0511ede2f7d8597e0d126f</td>\n",
       "      <td>venture</td>\n",
       "      <td>27-11-2013</td>\n",
       "      <td>15000000.0</td>\n",
       "      <td>/ORGANIZATION/CARDEKHO</td>\n",
       "      <td>Cardekho</td>\n",
       "      <td>operating</td>\n",
       "      <td>IND</td>\n",
       "      <td>automotive</td>\n",
       "      <td>Automotive &amp; Sports</td>\n",
       "      <td>13</td>\n",
       "      <td>136900000.0</td>\n",
       "    </tr>\n",
       "    <tr>\n",
       "      <td>27448</td>\n",
       "      <td>/funding-round/6a4ce4ed8be26c7a2d0a24f4a92fd958</td>\n",
       "      <td>venture</td>\n",
       "      <td>11-09-2015</td>\n",
       "      <td>15000000.0</td>\n",
       "      <td>/ORGANIZATION/INCREDIBLE-TECHNOLOGIES-PVT-LTD</td>\n",
       "      <td>Incredible Technologies (CredR)</td>\n",
       "      <td>operating</td>\n",
       "      <td>IND</td>\n",
       "      <td>automotive</td>\n",
       "      <td>Automotive &amp; Sports</td>\n",
       "      <td>13</td>\n",
       "      <td>136900000.0</td>\n",
       "    </tr>\n",
       "    <tr>\n",
       "      <td>27520</td>\n",
       "      <td>/funding-round/29b13629e3dd0f4d53ab84a6c89548c2</td>\n",
       "      <td>venture</td>\n",
       "      <td>18-04-2014</td>\n",
       "      <td>10000000.0</td>\n",
       "      <td>/ORGANIZATION/TAXIFORSURE-COM</td>\n",
       "      <td>TaxiForSure.com</td>\n",
       "      <td>acquired</td>\n",
       "      <td>IND</td>\n",
       "      <td>automotive</td>\n",
       "      <td>Automotive &amp; Sports</td>\n",
       "      <td>13</td>\n",
       "      <td>136900000.0</td>\n",
       "    </tr>\n",
       "  </tbody>\n",
       "</table>\n",
       "</div>"
      ],
      "text/plain": [
       "                               funding_round_permalink funding_round_type  \\\n",
       "27347  /funding-round/1e2b54335e2a41d8d7db25b7c11db399            venture   \n",
       "27359  /funding-round/a3782f52b69e60629bcf7866ca8b1eca            venture   \n",
       "27389  /funding-round/3875ae874b0511ede2f7d8597e0d126f            venture   \n",
       "27448  /funding-round/6a4ce4ed8be26c7a2d0a24f4a92fd958            venture   \n",
       "27520  /funding-round/29b13629e3dd0f4d53ab84a6c89548c2            venture   \n",
       "\n",
       "        funded_at  raised_amount_usd  \\\n",
       "27347  10-04-2012          5000000.0   \n",
       "27359  29-05-2015         12000000.0   \n",
       "27389  27-11-2013         15000000.0   \n",
       "27448  11-09-2015         15000000.0   \n",
       "27520  18-04-2014         10000000.0   \n",
       "\n",
       "                             company_permalink_upper  \\\n",
       "27347                 /ORGANIZATION/ANI-TECHNOLOGIES   \n",
       "27359                     /ORGANIZATION/ATHER-ENERGY   \n",
       "27389                         /ORGANIZATION/CARDEKHO   \n",
       "27448  /ORGANIZATION/INCREDIBLE-TECHNOLOGIES-PVT-LTD   \n",
       "27520                  /ORGANIZATION/TAXIFORSURE-COM   \n",
       "\n",
       "                                  name     status country_code primary_sector  \\\n",
       "27347                              Ola  operating          IND     automotive   \n",
       "27359                     Ather Energy  operating          IND     automotive   \n",
       "27389                         Cardekho  operating          IND     automotive   \n",
       "27448  Incredible Technologies (CredR)  operating          IND     automotive   \n",
       "27520                  TaxiForSure.com   acquired          IND     automotive   \n",
       "\n",
       "               main_sector  sectorwise_investment_count  \\\n",
       "27347  Automotive & Sports                           13   \n",
       "27359  Automotive & Sports                           13   \n",
       "27389  Automotive & Sports                           13   \n",
       "27448  Automotive & Sports                           13   \n",
       "27520  Automotive & Sports                           13   \n",
       "\n",
       "       sectorwise_total_investments  \n",
       "27347                   136900000.0  \n",
       "27359                   136900000.0  \n",
       "27389                   136900000.0  \n",
       "27448                   136900000.0  \n",
       "27520                   136900000.0  "
      ]
     },
     "execution_count": 965,
     "metadata": {},
     "output_type": "execute_result"
    }
   ],
   "source": [
    "D3.head()"
   ]
  },
  {
   "cell_type": "markdown",
   "metadata": {},
   "source": [
    "Now let's find solutions for Table5.1:-"
   ]
  },
  {
   "cell_type": "markdown",
   "metadata": {},
   "source": [
    "1. Total number of Investments (count)"
   ]
  },
  {
   "cell_type": "code",
   "execution_count": 969,
   "metadata": {},
   "outputs": [
    {
     "data": {
      "text/plain": [
       "12063"
      ]
     },
     "execution_count": 969,
     "metadata": {},
     "output_type": "execute_result"
    }
   ],
   "source": [
    "D1.raised_amount_usd.count()"
   ]
  },
  {
   "cell_type": "code",
   "execution_count": 970,
   "metadata": {},
   "outputs": [
    {
     "data": {
      "text/plain": [
       "621"
      ]
     },
     "execution_count": 970,
     "metadata": {},
     "output_type": "execute_result"
    }
   ],
   "source": [
    "D2.raised_amount_usd.count()"
   ]
  },
  {
   "cell_type": "code",
   "execution_count": 971,
   "metadata": {},
   "outputs": [
    {
     "data": {
      "text/plain": [
       "328"
      ]
     },
     "execution_count": 971,
     "metadata": {},
     "output_type": "execute_result"
    }
   ],
   "source": [
    "D3.raised_amount_usd.count()"
   ]
  },
  {
   "cell_type": "markdown",
   "metadata": {},
   "source": [
    "2. Total amount of investment (USD)"
   ]
  },
  {
   "cell_type": "code",
   "execution_count": 966,
   "metadata": {},
   "outputs": [
    {
     "data": {
      "text/plain": [
       "107757097294.0"
      ]
     },
     "execution_count": 966,
     "metadata": {},
     "output_type": "execute_result"
    }
   ],
   "source": [
    "D1.raised_amount_usd.sum()"
   ]
  },
  {
   "cell_type": "code",
   "execution_count": 967,
   "metadata": {},
   "outputs": [
    {
     "data": {
      "text/plain": [
       "5379078691.0"
      ]
     },
     "execution_count": 967,
     "metadata": {},
     "output_type": "execute_result"
    }
   ],
   "source": [
    "D2.raised_amount_usd.sum()"
   ]
  },
  {
   "cell_type": "code",
   "execution_count": 968,
   "metadata": {},
   "outputs": [
    {
     "data": {
      "text/plain": [
       "2949543602.0"
      ]
     },
     "execution_count": 968,
     "metadata": {},
     "output_type": "execute_result"
    }
   ],
   "source": [
    "D3.raised_amount_usd.sum()"
   ]
  },
  {
   "cell_type": "markdown",
   "metadata": {},
   "source": [
    "3. Top Sector name (no. of investment-wise)\n",
    "4. Second Sector name (no. of investment-wise)\n",
    "5. Third Sector name (no. of investment-wise)\n",
    "6. Number of investments in top sector (3)\n",
    "7. Number of investments in second sector (4)\n",
    "8. Number of investments in third sector (5)"
   ]
  },
  {
   "cell_type": "code",
   "execution_count": 994,
   "metadata": {},
   "outputs": [
    {
     "data": {
      "text/html": [
       "<div>\n",
       "<style scoped>\n",
       "    .dataframe tbody tr th:only-of-type {\n",
       "        vertical-align: middle;\n",
       "    }\n",
       "\n",
       "    .dataframe tbody tr th {\n",
       "        vertical-align: top;\n",
       "    }\n",
       "\n",
       "    .dataframe thead th {\n",
       "        text-align: right;\n",
       "    }\n",
       "</style>\n",
       "<table border=\"1\" class=\"dataframe\">\n",
       "  <thead>\n",
       "    <tr style=\"text-align: right;\">\n",
       "      <th></th>\n",
       "      <th>main_sector</th>\n",
       "      <th>sectorwise_investment_count</th>\n",
       "      <th>sectorwise_total_investments</th>\n",
       "    </tr>\n",
       "  </thead>\n",
       "  <tbody>\n",
       "    <tr>\n",
       "      <td>286660</td>\n",
       "      <td>Others</td>\n",
       "      <td>2950</td>\n",
       "      <td>2.632101e+10</td>\n",
       "    </tr>\n",
       "    <tr>\n",
       "      <td>326853</td>\n",
       "      <td>Social, Finance, Analytics, Advertising</td>\n",
       "      <td>2714</td>\n",
       "      <td>2.380738e+10</td>\n",
       "    </tr>\n",
       "    <tr>\n",
       "      <td>88262</td>\n",
       "      <td>Cleantech / Semiconductors</td>\n",
       "      <td>2350</td>\n",
       "      <td>2.163343e+10</td>\n",
       "    </tr>\n",
       "  </tbody>\n",
       "</table>\n",
       "</div>"
      ],
      "text/plain": [
       "                                    main_sector  sectorwise_investment_count  \\\n",
       "286660                                   Others                         2950   \n",
       "326853  Social, Finance, Analytics, Advertising                         2714   \n",
       "88262                Cleantech / Semiconductors                         2350   \n",
       "\n",
       "        sectorwise_total_investments  \n",
       "286660                  2.632101e+10  \n",
       "326853                  2.380738e+10  \n",
       "88262                   2.163343e+10  "
      ]
     },
     "execution_count": 994,
     "metadata": {},
     "output_type": "execute_result"
    }
   ],
   "source": [
    "D1.loc[:,['main_sector', 'sectorwise_investment_count', 'sectorwise_total_investments']].sort_values('sectorwise_investment_count', ascending=False).drop_duplicates().head(3)"
   ]
  },
  {
   "cell_type": "code",
   "execution_count": 975,
   "metadata": {},
   "outputs": [
    {
     "data": {
      "text/html": [
       "<div>\n",
       "<style scoped>\n",
       "    .dataframe tbody tr th:only-of-type {\n",
       "        vertical-align: middle;\n",
       "    }\n",
       "\n",
       "    .dataframe tbody tr th {\n",
       "        vertical-align: top;\n",
       "    }\n",
       "\n",
       "    .dataframe thead th {\n",
       "        text-align: right;\n",
       "    }\n",
       "</style>\n",
       "<table border=\"1\" class=\"dataframe\">\n",
       "  <thead>\n",
       "    <tr style=\"text-align: right;\">\n",
       "      <th></th>\n",
       "      <th>main_sector</th>\n",
       "      <th>sectorwise_investment_count</th>\n",
       "      <th>sectorwise_total_investments</th>\n",
       "    </tr>\n",
       "  </thead>\n",
       "  <tbody>\n",
       "    <tr>\n",
       "      <td>286836</td>\n",
       "      <td>Others</td>\n",
       "      <td>147</td>\n",
       "      <td>1.283624e+09</td>\n",
       "    </tr>\n",
       "    <tr>\n",
       "      <td>327888</td>\n",
       "      <td>Social, Finance, Analytics, Advertising</td>\n",
       "      <td>133</td>\n",
       "      <td>1.089404e+09</td>\n",
       "    </tr>\n",
       "    <tr>\n",
       "      <td>89504</td>\n",
       "      <td>Cleantech / Semiconductors</td>\n",
       "      <td>130</td>\n",
       "      <td>1.163990e+09</td>\n",
       "    </tr>\n",
       "  </tbody>\n",
       "</table>\n",
       "</div>"
      ],
      "text/plain": [
       "                                    main_sector  sectorwise_investment_count  \\\n",
       "286836                                   Others                          147   \n",
       "327888  Social, Finance, Analytics, Advertising                          133   \n",
       "89504                Cleantech / Semiconductors                          130   \n",
       "\n",
       "        sectorwise_total_investments  \n",
       "286836                  1.283624e+09  \n",
       "327888                  1.089404e+09  \n",
       "89504                   1.163990e+09  "
      ]
     },
     "execution_count": 975,
     "metadata": {},
     "output_type": "execute_result"
    }
   ],
   "source": [
    "D2.loc[:,['main_sector', 'sectorwise_investment_count', 'sectorwise_total_investments']].sort_values('sectorwise_investment_count', ascending=False).drop_duplicates().head(3)"
   ]
  },
  {
   "cell_type": "code",
   "execution_count": 976,
   "metadata": {},
   "outputs": [
    {
     "data": {
      "text/html": [
       "<div>\n",
       "<style scoped>\n",
       "    .dataframe tbody tr th:only-of-type {\n",
       "        vertical-align: middle;\n",
       "    }\n",
       "\n",
       "    .dataframe tbody tr th {\n",
       "        vertical-align: top;\n",
       "    }\n",
       "\n",
       "    .dataframe thead th {\n",
       "        text-align: right;\n",
       "    }\n",
       "</style>\n",
       "<table border=\"1\" class=\"dataframe\">\n",
       "  <thead>\n",
       "    <tr style=\"text-align: right;\">\n",
       "      <th></th>\n",
       "      <th>main_sector</th>\n",
       "      <th>sectorwise_investment_count</th>\n",
       "      <th>sectorwise_total_investments</th>\n",
       "    </tr>\n",
       "  </thead>\n",
       "  <tbody>\n",
       "    <tr>\n",
       "      <td>273528</td>\n",
       "      <td>Others</td>\n",
       "      <td>110</td>\n",
       "      <td>1.013410e+09</td>\n",
       "    </tr>\n",
       "    <tr>\n",
       "      <td>340181</td>\n",
       "      <td>Social, Finance, Analytics, Advertising</td>\n",
       "      <td>60</td>\n",
       "      <td>5.505496e+08</td>\n",
       "    </tr>\n",
       "    <tr>\n",
       "      <td>235258</td>\n",
       "      <td>News, Search and Messaging</td>\n",
       "      <td>52</td>\n",
       "      <td>4.338345e+08</td>\n",
       "    </tr>\n",
       "  </tbody>\n",
       "</table>\n",
       "</div>"
      ],
      "text/plain": [
       "                                    main_sector  sectorwise_investment_count  \\\n",
       "273528                                   Others                          110   \n",
       "340181  Social, Finance, Analytics, Advertising                           60   \n",
       "235258               News, Search and Messaging                           52   \n",
       "\n",
       "        sectorwise_total_investments  \n",
       "273528                  1.013410e+09  \n",
       "340181                  5.505496e+08  \n",
       "235258                  4.338345e+08  "
      ]
     },
     "execution_count": 976,
     "metadata": {},
     "output_type": "execute_result"
    }
   ],
   "source": [
    "D3.loc[:,['main_sector', 'sectorwise_investment_count', 'sectorwise_total_investments']].sort_values('sectorwise_investment_count', ascending=False).drop_duplicates().head(3)"
   ]
  },
  {
   "cell_type": "markdown",
   "metadata": {},
   "source": [
    "9. For point 3 (top sector count-wise), which company received the highest investment?"
   ]
  },
  {
   "cell_type": "code",
   "execution_count": 1004,
   "metadata": {},
   "outputs": [
    {
     "data": {
      "text/html": [
       "<div>\n",
       "<style scoped>\n",
       "    .dataframe tbody tr th:only-of-type {\n",
       "        vertical-align: middle;\n",
       "    }\n",
       "\n",
       "    .dataframe tbody tr th {\n",
       "        vertical-align: top;\n",
       "    }\n",
       "\n",
       "    .dataframe thead th {\n",
       "        text-align: right;\n",
       "    }\n",
       "</style>\n",
       "<table border=\"1\" class=\"dataframe\">\n",
       "  <thead>\n",
       "    <tr style=\"text-align: right;\">\n",
       "      <th></th>\n",
       "      <th></th>\n",
       "      <th>raised_amount_usd</th>\n",
       "    </tr>\n",
       "    <tr>\n",
       "      <th>company_permalink_upper</th>\n",
       "      <th>name</th>\n",
       "      <th></th>\n",
       "    </tr>\n",
       "  </thead>\n",
       "  <tbody>\n",
       "    <tr>\n",
       "      <td>/ORGANIZATION/VIRTUSTREAM</td>\n",
       "      <td>Virtustream</td>\n",
       "      <td>64300000.0</td>\n",
       "    </tr>\n",
       "  </tbody>\n",
       "</table>\n",
       "</div>"
      ],
      "text/plain": [
       "                                       raised_amount_usd\n",
       "company_permalink_upper   name                          \n",
       "/ORGANIZATION/VIRTUSTREAM Virtustream         64300000.0"
      ]
     },
     "execution_count": 1004,
     "metadata": {},
     "output_type": "execute_result"
    }
   ],
   "source": [
    "D1[D1['main_sector']=='Others'].groupby(['company_permalink_upper','name'])['company_permalink_upper', 'name', 'raised_amount_usd'].sum().sort_values('raised_amount_usd', ascending=False).head(1)"
   ]
  },
  {
   "cell_type": "code",
   "execution_count": 1003,
   "metadata": {},
   "outputs": [
    {
     "data": {
      "text/html": [
       "<div>\n",
       "<style scoped>\n",
       "    .dataframe tbody tr th:only-of-type {\n",
       "        vertical-align: middle;\n",
       "    }\n",
       "\n",
       "    .dataframe tbody tr th {\n",
       "        vertical-align: top;\n",
       "    }\n",
       "\n",
       "    .dataframe thead th {\n",
       "        text-align: right;\n",
       "    }\n",
       "</style>\n",
       "<table border=\"1\" class=\"dataframe\">\n",
       "  <thead>\n",
       "    <tr style=\"text-align: right;\">\n",
       "      <th></th>\n",
       "      <th></th>\n",
       "      <th>raised_amount_usd</th>\n",
       "    </tr>\n",
       "    <tr>\n",
       "      <th>company_permalink_upper</th>\n",
       "      <th>name</th>\n",
       "      <th></th>\n",
       "    </tr>\n",
       "  </thead>\n",
       "  <tbody>\n",
       "    <tr>\n",
       "      <td>/ORGANIZATION/ELECTRIC-CLOUD</td>\n",
       "      <td>Electric Cloud</td>\n",
       "      <td>37000000.0</td>\n",
       "    </tr>\n",
       "  </tbody>\n",
       "</table>\n",
       "</div>"
      ],
      "text/plain": [
       "                                             raised_amount_usd\n",
       "company_permalink_upper      name                             \n",
       "/ORGANIZATION/ELECTRIC-CLOUD Electric Cloud         37000000.0"
      ]
     },
     "execution_count": 1003,
     "metadata": {},
     "output_type": "execute_result"
    }
   ],
   "source": [
    "D2[D2['main_sector']=='Others'].groupby(['company_permalink_upper','name'])['company_permalink_upper', 'name', 'raised_amount_usd'].sum().sort_values('raised_amount_usd', ascending=False).head(1)"
   ]
  },
  {
   "cell_type": "code",
   "execution_count": 1002,
   "metadata": {},
   "outputs": [
    {
     "data": {
      "text/html": [
       "<div>\n",
       "<style scoped>\n",
       "    .dataframe tbody tr th:only-of-type {\n",
       "        vertical-align: middle;\n",
       "    }\n",
       "\n",
       "    .dataframe tbody tr th {\n",
       "        vertical-align: top;\n",
       "    }\n",
       "\n",
       "    .dataframe thead th {\n",
       "        text-align: right;\n",
       "    }\n",
       "</style>\n",
       "<table border=\"1\" class=\"dataframe\">\n",
       "  <thead>\n",
       "    <tr style=\"text-align: right;\">\n",
       "      <th></th>\n",
       "      <th></th>\n",
       "      <th>raised_amount_usd</th>\n",
       "    </tr>\n",
       "    <tr>\n",
       "      <th>company_permalink_upper</th>\n",
       "      <th>name</th>\n",
       "      <th></th>\n",
       "    </tr>\n",
       "  </thead>\n",
       "  <tbody>\n",
       "    <tr>\n",
       "      <td>/ORGANIZATION/FIRSTCRY-COM</td>\n",
       "      <td>FirstCry.com</td>\n",
       "      <td>39000000.0</td>\n",
       "    </tr>\n",
       "  </tbody>\n",
       "</table>\n",
       "</div>"
      ],
      "text/plain": [
       "                                         raised_amount_usd\n",
       "company_permalink_upper    name                           \n",
       "/ORGANIZATION/FIRSTCRY-COM FirstCry.com         39000000.0"
      ]
     },
     "execution_count": 1002,
     "metadata": {},
     "output_type": "execute_result"
    }
   ],
   "source": [
    "D3[D3['main_sector']=='Others'].groupby(['company_permalink_upper','name'])['company_permalink_upper', 'name', 'raised_amount_usd'].sum().sort_values('raised_amount_usd', ascending=False).head(1)"
   ]
  },
  {
   "cell_type": "markdown",
   "metadata": {},
   "source": [
    "10. For point 4 (second best sector count-wise), which company received the highest investment?"
   ]
  },
  {
   "cell_type": "code",
   "execution_count": 1005,
   "metadata": {},
   "outputs": [
    {
     "data": {
      "text/html": [
       "<div>\n",
       "<style scoped>\n",
       "    .dataframe tbody tr th:only-of-type {\n",
       "        vertical-align: middle;\n",
       "    }\n",
       "\n",
       "    .dataframe tbody tr th {\n",
       "        vertical-align: top;\n",
       "    }\n",
       "\n",
       "    .dataframe thead th {\n",
       "        text-align: right;\n",
       "    }\n",
       "</style>\n",
       "<table border=\"1\" class=\"dataframe\">\n",
       "  <thead>\n",
       "    <tr style=\"text-align: right;\">\n",
       "      <th></th>\n",
       "      <th></th>\n",
       "      <th>raised_amount_usd</th>\n",
       "    </tr>\n",
       "    <tr>\n",
       "      <th>company_permalink_upper</th>\n",
       "      <th>name</th>\n",
       "      <th></th>\n",
       "    </tr>\n",
       "  </thead>\n",
       "  <tbody>\n",
       "    <tr>\n",
       "      <td>/ORGANIZATION/SHOTSPOTTER</td>\n",
       "      <td>SST Inc. (Formerly ShotSpotter)</td>\n",
       "      <td>67933006.0</td>\n",
       "    </tr>\n",
       "  </tbody>\n",
       "</table>\n",
       "</div>"
      ],
      "text/plain": [
       "                                                           raised_amount_usd\n",
       "company_permalink_upper   name                                              \n",
       "/ORGANIZATION/SHOTSPOTTER SST Inc. (Formerly ShotSpotter)         67933006.0"
      ]
     },
     "execution_count": 1005,
     "metadata": {},
     "output_type": "execute_result"
    }
   ],
   "source": [
    "D1[D1['main_sector']=='Social, Finance, Analytics, Advertising'].groupby(['company_permalink_upper','name'])['company_permalink_upper', 'name', 'raised_amount_usd'].sum().sort_values('raised_amount_usd', ascending=False).head(1)"
   ]
  },
  {
   "cell_type": "code",
   "execution_count": 1008,
   "metadata": {},
   "outputs": [
    {
     "data": {
      "text/html": [
       "<div>\n",
       "<style scoped>\n",
       "    .dataframe tbody tr th:only-of-type {\n",
       "        vertical-align: middle;\n",
       "    }\n",
       "\n",
       "    .dataframe tbody tr th {\n",
       "        vertical-align: top;\n",
       "    }\n",
       "\n",
       "    .dataframe thead th {\n",
       "        text-align: right;\n",
       "    }\n",
       "</style>\n",
       "<table border=\"1\" class=\"dataframe\">\n",
       "  <thead>\n",
       "    <tr style=\"text-align: right;\">\n",
       "      <th></th>\n",
       "      <th></th>\n",
       "      <th>raised_amount_usd</th>\n",
       "    </tr>\n",
       "    <tr>\n",
       "      <th>company_permalink_upper</th>\n",
       "      <th>name</th>\n",
       "      <th></th>\n",
       "    </tr>\n",
       "  </thead>\n",
       "  <tbody>\n",
       "    <tr>\n",
       "      <td>/ORGANIZATION/CELLTICK-TECHNOLOGIES</td>\n",
       "      <td>Celltick Technologies</td>\n",
       "      <td>37500000.0</td>\n",
       "    </tr>\n",
       "  </tbody>\n",
       "</table>\n",
       "</div>"
      ],
      "text/plain": [
       "                                                           raised_amount_usd\n",
       "company_permalink_upper             name                                    \n",
       "/ORGANIZATION/CELLTICK-TECHNOLOGIES Celltick Technologies         37500000.0"
      ]
     },
     "execution_count": 1008,
     "metadata": {},
     "output_type": "execute_result"
    }
   ],
   "source": [
    "D2[D2['main_sector']=='Social, Finance, Analytics, Advertising'].groupby(['company_permalink_upper','name'])['company_permalink_upper', 'name', 'raised_amount_usd'].sum().sort_values('raised_amount_usd', ascending=False).head(1)"
   ]
  },
  {
   "cell_type": "code",
   "execution_count": 1009,
   "metadata": {},
   "outputs": [
    {
     "data": {
      "text/html": [
       "<div>\n",
       "<style scoped>\n",
       "    .dataframe tbody tr th:only-of-type {\n",
       "        vertical-align: middle;\n",
       "    }\n",
       "\n",
       "    .dataframe tbody tr th {\n",
       "        vertical-align: top;\n",
       "    }\n",
       "\n",
       "    .dataframe thead th {\n",
       "        text-align: right;\n",
       "    }\n",
       "</style>\n",
       "<table border=\"1\" class=\"dataframe\">\n",
       "  <thead>\n",
       "    <tr style=\"text-align: right;\">\n",
       "      <th></th>\n",
       "      <th></th>\n",
       "      <th>raised_amount_usd</th>\n",
       "    </tr>\n",
       "    <tr>\n",
       "      <th>company_permalink_upper</th>\n",
       "      <th>name</th>\n",
       "      <th></th>\n",
       "    </tr>\n",
       "  </thead>\n",
       "  <tbody>\n",
       "    <tr>\n",
       "      <td>/ORGANIZATION/MANTHAN-SYSTEMS</td>\n",
       "      <td>Manthan Systems</td>\n",
       "      <td>50700000.0</td>\n",
       "    </tr>\n",
       "  </tbody>\n",
       "</table>\n",
       "</div>"
      ],
      "text/plain": [
       "                                               raised_amount_usd\n",
       "company_permalink_upper       name                              \n",
       "/ORGANIZATION/MANTHAN-SYSTEMS Manthan Systems         50700000.0"
      ]
     },
     "execution_count": 1009,
     "metadata": {},
     "output_type": "execute_result"
    }
   ],
   "source": [
    "D3[D3['main_sector']=='Social, Finance, Analytics, Advertising'].groupby(['company_permalink_upper','name'])['company_permalink_upper', 'name', 'raised_amount_usd'].sum().sort_values('raised_amount_usd', ascending=False).head(1)"
   ]
  },
  {
   "cell_type": "markdown",
   "metadata": {},
   "source": [
    "<b>Checkpoint 6<b>"
   ]
  },
  {
   "cell_type": "markdown",
   "metadata": {},
   "source": [
    "A plot showing the fraction of total investments (globally) in angel, venture, seed, and private equity, and the average amount of investment in each funding type. This chart should make it clear that a certain funding type (FT) is best suited for Spark Funds."
   ]
  },
  {
   "cell_type": "code",
   "execution_count": 890,
   "metadata": {},
   "outputs": [
    {
     "data": {
      "image/png": "[encoded data removed]",
      "text/plain": [
       "<Figure size 1152x360 with 2 Axes>"
      ]
     },
     "metadata": {
      "needs_background": "light"
     },
     "output_type": "display_data"
    }
   ],
   "source": [
    "from numpy import median\n",
    "import matplotlib.pyplot as plt\n",
    "plt.figure(figsize=(16, 5))\n",
    "plt.subplot(1, 2, 1)\n",
    "plt.title(\"Percentage of total investments globally\")\n",
    "master_frameplot = master_frame_All[master_frame_All['funding_round_type'].isin(['venture', 'angel', 'seed','private_equity'])]\n",
    "sns.barplot(x='funding_round_type', y='raised_amount_usd', data=master_frameplot,\n",
    "            estimator=lambda x : 100*sum(x)/sum(master_frameplot['raised_amount_usd']))\n",
    "plt.ylabel(\"% of Total global investments\")\n",
    "plt.subplot(1, 2, 2)\n",
    "plt.title(\"Average value - Median\")\n",
    "master_frameplot2 = master_frame_All[master_frame_All['funding_round_type'].isin(['venture', 'angel', 'seed','private_equity'])]\n",
    "sns.barplot(x='funding_round_type', y='raised_amount_usd', data=master_frameplot2, estimator=median)\n",
    "plt.ylabel(\"Avg. of raised amount in USD\")\n",
    "plt.show()"
   ]
  },
  {
   "cell_type": "markdown",
   "metadata": {},
   "source": [
    "A plot showing the top 9 countries against the total amount of investments of funding type FT. This should make the top 3 countries (Country 1, Country 2, and Country 3) very clear."
   ]
  },
  {
   "cell_type": "code",
   "execution_count": 1149,
   "metadata": {},
   "outputs": [],
   "source": [
    "master_frame_venture = master_frame_All[master_frame_All['funding_round_type']=='venture']"
   ]
  },
  {
   "cell_type": "code",
   "execution_count": 876,
   "metadata": {},
   "outputs": [
    {
     "data": {
      "text/plain": [
       "['USA', 'CHN', 'GBR', 'IND', 'CAN', 'FRA', 'ISR', 'DEU', 'JPN']"
      ]
     },
     "execution_count": 876,
     "metadata": {},
     "output_type": "execute_result"
    }
   ],
   "source": [
    "top9"
   ]
  },
  {
   "cell_type": "code",
   "execution_count": 1148,
   "metadata": {},
   "outputs": [
    {
     "data": {
      "image/png": "[encoded data removed]",
      "text/plain": [
       "<Figure size 1152x360 with 1 Axes>"
      ]
     },
     "metadata": {
      "needs_background": "light"
     },
     "output_type": "display_data"
    }
   ],
   "source": [
    "master_frame_venture_top9 = master_frame_venture[master_frame_venture['country_code'].isin(top9)]\n",
    "top3Countries = top3countries[:3]\n",
    "plt.figure(figsize=(16, 5))\n",
    "plt.title(\"Total amount of investments in Top 9 Countries for Venture fund type\")\n",
    "clrs = ['red' if (x  in top3Countries) else 'green' for x in master_frame_venture_top9['country_code'].unique()]\n",
    "ax = sns.barplot(x='country_code', y='raised_amount_usd', data=master_frame_venture_top9,\n",
    "            estimator=sum, palette=clrs)\n",
    "for p in ax.patches:\n",
    "    height = p.get_height()\n",
    "    ax.text(p.get_x()+p.get_width()/2.,\n",
    "            height + 10000000000,\n",
    "            '$'+'{:1.2f}'.format(height/1000000000)+'Billion',\n",
    "            ha=\"center\") \n"
   ]
  },
  {
   "cell_type": "markdown",
   "metadata": {},
   "source": [
    "A plot showing the number of investments in the top 3 sectors of the top 3 countries on one chart (for the chosen investment type FT). "
   ]
  },
  {
   "cell_type": "code",
   "execution_count": 1050,
   "metadata": {},
   "outputs": [],
   "source": [
    "master_mapping_top3 = master_mapping[master_mapping['country_code'].isin(['USA', 'GBR', 'IND'])]\n",
    "master_mapping_top3_topsector = master_mapping_top3[master_mapping_top3['main_sector'].isin([''])]"
   ]
  },
  {
   "cell_type": "markdown",
   "metadata": {},
   "source": [
    "Preparing the dataframe with top 3 countries (USA, GBR, IND) data:-"
   ]
  },
  {
   "cell_type": "code",
   "execution_count": 1061,
   "metadata": {},
   "outputs": [],
   "source": [
    "top_usa = D1.loc[:,['main_sector', 'sectorwise_investment_count', 'sectorwise_total_investments', 'country_code']].sort_values('sectorwise_investment_count', ascending=False).drop_duplicates().head(3)"
   ]
  },
  {
   "cell_type": "code",
   "execution_count": 1063,
   "metadata": {},
   "outputs": [],
   "source": [
    "top_gbr = D2.loc[:,['main_sector', 'sectorwise_investment_count', 'sectorwise_total_investments', 'country_code']].sort_values('sectorwise_investment_count', ascending=False).drop_duplicates().head(3)"
   ]
  },
  {
   "cell_type": "code",
   "execution_count": 1064,
   "metadata": {},
   "outputs": [],
   "source": [
    "top_ind = D3.loc[:,['main_sector', 'sectorwise_investment_count', 'sectorwise_total_investments', 'country_code']].sort_values('sectorwise_investment_count', ascending=False).drop_duplicates().head(3)"
   ]
  },
  {
   "cell_type": "code",
   "execution_count": 1068,
   "metadata": {},
   "outputs": [
    {
     "data": {
      "text/html": [
       "<div>\n",
       "<style scoped>\n",
       "    .dataframe tbody tr th:only-of-type {\n",
       "        vertical-align: middle;\n",
       "    }\n",
       "\n",
       "    .dataframe tbody tr th {\n",
       "        vertical-align: top;\n",
       "    }\n",
       "\n",
       "    .dataframe thead th {\n",
       "        text-align: right;\n",
       "    }\n",
       "</style>\n",
       "<table border=\"1\" class=\"dataframe\">\n",
       "  <thead>\n",
       "    <tr style=\"text-align: right;\">\n",
       "      <th></th>\n",
       "      <th>main_sector</th>\n",
       "      <th>sectorwise_investment_count</th>\n",
       "      <th>sectorwise_total_investments</th>\n",
       "      <th>country_code</th>\n",
       "    </tr>\n",
       "  </thead>\n",
       "  <tbody>\n",
       "    <tr>\n",
       "      <td>286660</td>\n",
       "      <td>Others</td>\n",
       "      <td>2950</td>\n",
       "      <td>2.632101e+10</td>\n",
       "      <td>USA</td>\n",
       "    </tr>\n",
       "    <tr>\n",
       "      <td>326853</td>\n",
       "      <td>Social, Finance, Analytics, Advertising</td>\n",
       "      <td>2714</td>\n",
       "      <td>2.380738e+10</td>\n",
       "      <td>USA</td>\n",
       "    </tr>\n",
       "    <tr>\n",
       "      <td>88262</td>\n",
       "      <td>Cleantech / Semiconductors</td>\n",
       "      <td>2350</td>\n",
       "      <td>2.163343e+10</td>\n",
       "      <td>USA</td>\n",
       "    </tr>\n",
       "    <tr>\n",
       "      <td>286836</td>\n",
       "      <td>Others</td>\n",
       "      <td>147</td>\n",
       "      <td>1.283624e+09</td>\n",
       "      <td>GBR</td>\n",
       "    </tr>\n",
       "    <tr>\n",
       "      <td>327888</td>\n",
       "      <td>Social, Finance, Analytics, Advertising</td>\n",
       "      <td>133</td>\n",
       "      <td>1.089404e+09</td>\n",
       "      <td>GBR</td>\n",
       "    </tr>\n",
       "    <tr>\n",
       "      <td>89504</td>\n",
       "      <td>Cleantech / Semiconductors</td>\n",
       "      <td>130</td>\n",
       "      <td>1.163990e+09</td>\n",
       "      <td>GBR</td>\n",
       "    </tr>\n",
       "    <tr>\n",
       "      <td>273528</td>\n",
       "      <td>Others</td>\n",
       "      <td>110</td>\n",
       "      <td>1.013410e+09</td>\n",
       "      <td>IND</td>\n",
       "    </tr>\n",
       "    <tr>\n",
       "      <td>340181</td>\n",
       "      <td>Social, Finance, Analytics, Advertising</td>\n",
       "      <td>60</td>\n",
       "      <td>5.505496e+08</td>\n",
       "      <td>IND</td>\n",
       "    </tr>\n",
       "    <tr>\n",
       "      <td>235258</td>\n",
       "      <td>News, Search and Messaging</td>\n",
       "      <td>52</td>\n",
       "      <td>4.338345e+08</td>\n",
       "      <td>IND</td>\n",
       "    </tr>\n",
       "  </tbody>\n",
       "</table>\n",
       "</div>"
      ],
      "text/plain": [
       "                                    main_sector  sectorwise_investment_count  \\\n",
       "286660                                   Others                         2950   \n",
       "326853  Social, Finance, Analytics, Advertising                         2714   \n",
       "88262                Cleantech / Semiconductors                         2350   \n",
       "286836                                   Others                          147   \n",
       "327888  Social, Finance, Analytics, Advertising                          133   \n",
       "89504                Cleantech / Semiconductors                          130   \n",
       "273528                                   Others                          110   \n",
       "340181  Social, Finance, Analytics, Advertising                           60   \n",
       "235258               News, Search and Messaging                           52   \n",
       "\n",
       "        sectorwise_total_investments country_code  \n",
       "286660                  2.632101e+10          USA  \n",
       "326853                  2.380738e+10          USA  \n",
       "88262                   2.163343e+10          USA  \n",
       "286836                  1.283624e+09          GBR  \n",
       "327888                  1.089404e+09          GBR  \n",
       "89504                   1.163990e+09          GBR  \n",
       "273528                  1.013410e+09          IND  \n",
       "340181                  5.505496e+08          IND  \n",
       "235258                  4.338345e+08          IND  "
      ]
     },
     "execution_count": 1068,
     "metadata": {},
     "output_type": "execute_result"
    }
   ],
   "source": [
    "top3_All = pd.concat([top_usa, top_gbr, top_ind])\n",
    "top3_All"
   ]
  },
  {
   "cell_type": "code",
   "execution_count": 1133,
   "metadata": {},
   "outputs": [
    {
     "data": {
      "image/png": "[encoded data removed]",
      "text/plain": [
       "<Figure size 1152x360 with 1 Axes>"
      ]
     },
     "metadata": {
      "needs_background": "light"
     },
     "output_type": "display_data"
    }
   ],
   "source": [
    "plt.figure(figsize=(16, 5))\n",
    "ax = sns.barplot(y='country_code', x='sectorwise_investment_count', hue='main_sector', data=top3_All)\n",
    "for p in ax.patches:\n",
    "    if float(p.get_width()) > 0:\n",
    "        height = p.get_y()+p.get_height()/1.3\n",
    "        width = p.get_width()\n",
    "        ax.text(width+60, height,\n",
    "            ''+ str(width),\n",
    "            ha=\"center\") "
   ]
  },
  {
   "cell_type": "markdown",
   "metadata": {},
   "source": [
    "<b>Extra queries made while preparing the ppt. <b>"
   ]
  },
  {
   "cell_type": "code",
   "execution_count": 1137,
   "metadata": {},
   "outputs": [
    {
     "data": {
      "text/plain": [
       "funding_round_type\n",
       "angel              0.597774\n",
       "private_equity    18.816994\n",
       "seed               2.205818\n",
       "venture           78.379415\n",
       "Name: raised_amount_usd, dtype: float64"
      ]
     },
     "execution_count": 1137,
     "metadata": {},
     "output_type": "execute_result"
    }
   ],
   "source": [
    "master_frameplot.groupby('funding_round_type')['raised_amount_usd'].apply(lambda x : 100*sum(x)/sum(master_frameplot['raised_amount_usd']))"
   ]
  },
  {
   "cell_type": "code",
   "execution_count": 1138,
   "metadata": {},
   "outputs": [
    {
     "data": {
      "text/html": [
       "<div>\n",
       "<style scoped>\n",
       "    .dataframe tbody tr th:only-of-type {\n",
       "        vertical-align: middle;\n",
       "    }\n",
       "\n",
       "    .dataframe tbody tr th {\n",
       "        vertical-align: top;\n",
       "    }\n",
       "\n",
       "    .dataframe thead th {\n",
       "        text-align: right;\n",
       "    }\n",
       "</style>\n",
       "<table border=\"1\" class=\"dataframe\">\n",
       "  <thead>\n",
       "    <tr style=\"text-align: right;\">\n",
       "      <th></th>\n",
       "      <th>raised_amount_usd</th>\n",
       "    </tr>\n",
       "    <tr>\n",
       "      <th>country_code</th>\n",
       "      <th></th>\n",
       "    </tr>\n",
       "  </thead>\n",
       "  <tbody>\n",
       "    <tr>\n",
       "      <td>CAN</td>\n",
       "      <td>9.482218e+09</td>\n",
       "    </tr>\n",
       "    <tr>\n",
       "      <td>CHN</td>\n",
       "      <td>3.933892e+10</td>\n",
       "    </tr>\n",
       "    <tr>\n",
       "      <td>DEU</td>\n",
       "      <td>6.306922e+09</td>\n",
       "    </tr>\n",
       "    <tr>\n",
       "      <td>FRA</td>\n",
       "      <td>7.226851e+09</td>\n",
       "    </tr>\n",
       "    <tr>\n",
       "      <td>GBR</td>\n",
       "      <td>2.007281e+10</td>\n",
       "    </tr>\n",
       "    <tr>\n",
       "      <td>IND</td>\n",
       "      <td>1.426151e+10</td>\n",
       "    </tr>\n",
       "    <tr>\n",
       "      <td>ISR</td>\n",
       "      <td>6.854350e+09</td>\n",
       "    </tr>\n",
       "    <tr>\n",
       "      <td>JPN</td>\n",
       "      <td>3.167647e+09</td>\n",
       "    </tr>\n",
       "    <tr>\n",
       "      <td>USA</td>\n",
       "      <td>4.200680e+11</td>\n",
       "    </tr>\n",
       "  </tbody>\n",
       "</table>\n",
       "</div>"
      ],
      "text/plain": [
       "              raised_amount_usd\n",
       "country_code                   \n",
       "CAN                9.482218e+09\n",
       "CHN                3.933892e+10\n",
       "DEU                6.306922e+09\n",
       "FRA                7.226851e+09\n",
       "GBR                2.007281e+10\n",
       "IND                1.426151e+10\n",
       "ISR                6.854350e+09\n",
       "JPN                3.167647e+09\n",
       "USA                4.200680e+11"
      ]
     },
     "execution_count": 1138,
     "metadata": {},
     "output_type": "execute_result"
    }
   ],
   "source": [
    "master_frame_venture_top9.groupby('country_code').sum()"
   ]
  }
 ],
 "metadata": {
  "kernelspec": {
   "display_name": "Python 3",
   "language": "python",
   "name": "python3"
  },
  "language_info": {
   "codemirror_mode": {
    "name": "ipython",
    "version": 3
   },
   "file_extension": ".py",
   "mimetype": "text/x-python",
   "name": "python",
   "nbconvert_exporter": "python",
   "pygments_lexer": "ipython3",
   "version": "3.7.4"
  }
 },
 "nbformat": 4,
 "nbformat_minor": 2
}
